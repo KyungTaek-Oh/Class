{
 "cells": [
  {
   "cell_type": "code",
   "execution_count": 1,
   "metadata": {},
   "outputs": [],
   "source": [
    "import pandas as pd\n",
    "from sklearn.model_selection import train_test_split\n",
    "from sklearn.preprocessing import StandardScaler\n",
    "from sklearn.neighbors import KNeighborsClassifier\n",
    "from sklearn.metrics import confusion_matrix\n",
    "from sklearn.metrics import classification_report\n",
    "import numpy as np\n",
    "import matplotlib.pyplot as plt"
   ]
  },
  {
   "cell_type": "code",
   "execution_count": 2,
   "metadata": {},
   "outputs": [
    {
     "data": {
      "text/html": [
       "<div>\n",
       "<style scoped>\n",
       "    .dataframe tbody tr th:only-of-type {\n",
       "        vertical-align: middle;\n",
       "    }\n",
       "\n",
       "    .dataframe tbody tr th {\n",
       "        vertical-align: top;\n",
       "    }\n",
       "\n",
       "    .dataframe thead th {\n",
       "        text-align: right;\n",
       "    }\n",
       "</style>\n",
       "<table border=\"1\" class=\"dataframe\">\n",
       "  <thead>\n",
       "    <tr style=\"text-align: right;\">\n",
       "      <th></th>\n",
       "      <th>EMAIL</th>\n",
       "      <th>DIAG_NM</th>\n",
       "      <th>activity_average_met</th>\n",
       "      <th>activity_cal_active</th>\n",
       "      <th>activity_cal_total</th>\n",
       "      <th>activity_daily_movement</th>\n",
       "      <th>activity_high</th>\n",
       "      <th>activity_inactive</th>\n",
       "      <th>activity_inactivity_alerts</th>\n",
       "      <th>activity_low</th>\n",
       "      <th>...</th>\n",
       "      <th>sleep_score_alignment</th>\n",
       "      <th>sleep_score_deep</th>\n",
       "      <th>sleep_score_disturbances</th>\n",
       "      <th>sleep_score_efficiency</th>\n",
       "      <th>sleep_score_latency</th>\n",
       "      <th>sleep_score_rem</th>\n",
       "      <th>sleep_score_total</th>\n",
       "      <th>sleep_temperature_delta</th>\n",
       "      <th>sleep_temperature_deviation</th>\n",
       "      <th>sleep_total</th>\n",
       "    </tr>\n",
       "  </thead>\n",
       "  <tbody>\n",
       "    <tr>\n",
       "      <th>0</th>\n",
       "      <td>nia+003@rowan.kr</td>\n",
       "      <td>MCI</td>\n",
       "      <td>1.262897</td>\n",
       "      <td>202.571429</td>\n",
       "      <td>2208.333333</td>\n",
       "      <td>3659.730159</td>\n",
       "      <td>0.793651</td>\n",
       "      <td>615.142857</td>\n",
       "      <td>0.809524</td>\n",
       "      <td>146.428571</td>\n",
       "      <td>...</td>\n",
       "      <td>74.809524</td>\n",
       "      <td>75.492063</td>\n",
       "      <td>57.634921</td>\n",
       "      <td>65.253968</td>\n",
       "      <td>78.650794</td>\n",
       "      <td>54.904762</td>\n",
       "      <td>69.730159</td>\n",
       "      <td>0.022222</td>\n",
       "      <td>0.022222</td>\n",
       "      <td>23543.809524</td>\n",
       "    </tr>\n",
       "    <tr>\n",
       "      <th>1</th>\n",
       "      <td>nia+005@rowan.kr</td>\n",
       "      <td>CN</td>\n",
       "      <td>1.370299</td>\n",
       "      <td>217.477876</td>\n",
       "      <td>1773.504425</td>\n",
       "      <td>5084.876106</td>\n",
       "      <td>0.256637</td>\n",
       "      <td>574.619469</td>\n",
       "      <td>0.539823</td>\n",
       "      <td>281.300885</td>\n",
       "      <td>...</td>\n",
       "      <td>86.849558</td>\n",
       "      <td>89.345133</td>\n",
       "      <td>83.601770</td>\n",
       "      <td>97.663717</td>\n",
       "      <td>83.973451</td>\n",
       "      <td>74.433628</td>\n",
       "      <td>81.097345</td>\n",
       "      <td>0.057434</td>\n",
       "      <td>0.057434</td>\n",
       "      <td>28060.088496</td>\n",
       "    </tr>\n",
       "    <tr>\n",
       "      <th>2</th>\n",
       "      <td>nia+010@rowan.kr</td>\n",
       "      <td>MCI</td>\n",
       "      <td>1.390625</td>\n",
       "      <td>259.672414</td>\n",
       "      <td>2365.137931</td>\n",
       "      <td>3877.741379</td>\n",
       "      <td>0.637931</td>\n",
       "      <td>632.482759</td>\n",
       "      <td>0.362069</td>\n",
       "      <td>328.827586</td>\n",
       "      <td>...</td>\n",
       "      <td>97.931034</td>\n",
       "      <td>61.517241</td>\n",
       "      <td>63.758621</td>\n",
       "      <td>58.034483</td>\n",
       "      <td>76.965517</td>\n",
       "      <td>64.672414</td>\n",
       "      <td>58.344828</td>\n",
       "      <td>-0.045862</td>\n",
       "      <td>-0.045862</td>\n",
       "      <td>20247.413793</td>\n",
       "    </tr>\n",
       "    <tr>\n",
       "      <th>3</th>\n",
       "      <td>nia+013@rowan.kr</td>\n",
       "      <td>MCI</td>\n",
       "      <td>1.478484</td>\n",
       "      <td>493.147541</td>\n",
       "      <td>2577.590164</td>\n",
       "      <td>8769.811475</td>\n",
       "      <td>0.836066</td>\n",
       "      <td>481.016393</td>\n",
       "      <td>0.745902</td>\n",
       "      <td>314.918033</td>\n",
       "      <td>...</td>\n",
       "      <td>90.139344</td>\n",
       "      <td>97.606557</td>\n",
       "      <td>72.549180</td>\n",
       "      <td>88.073770</td>\n",
       "      <td>81.721311</td>\n",
       "      <td>36.295082</td>\n",
       "      <td>69.049180</td>\n",
       "      <td>0.008033</td>\n",
       "      <td>0.008033</td>\n",
       "      <td>23163.196721</td>\n",
       "    </tr>\n",
       "    <tr>\n",
       "      <th>4</th>\n",
       "      <td>nia+014@rowan.kr</td>\n",
       "      <td>MCI</td>\n",
       "      <td>1.442555</td>\n",
       "      <td>401.382353</td>\n",
       "      <td>2503.882353</td>\n",
       "      <td>7250.514706</td>\n",
       "      <td>0.382353</td>\n",
       "      <td>534.470588</td>\n",
       "      <td>0.176471</td>\n",
       "      <td>343.852941</td>\n",
       "      <td>...</td>\n",
       "      <td>94.764706</td>\n",
       "      <td>76.867647</td>\n",
       "      <td>55.500000</td>\n",
       "      <td>66.970588</td>\n",
       "      <td>82.500000</td>\n",
       "      <td>38.779412</td>\n",
       "      <td>63.573529</td>\n",
       "      <td>-0.129706</td>\n",
       "      <td>-0.129706</td>\n",
       "      <td>21879.264706</td>\n",
       "    </tr>\n",
       "    <tr>\n",
       "      <th>...</th>\n",
       "      <td>...</td>\n",
       "      <td>...</td>\n",
       "      <td>...</td>\n",
       "      <td>...</td>\n",
       "      <td>...</td>\n",
       "      <td>...</td>\n",
       "      <td>...</td>\n",
       "      <td>...</td>\n",
       "      <td>...</td>\n",
       "      <td>...</td>\n",
       "      <td>...</td>\n",
       "      <td>...</td>\n",
       "      <td>...</td>\n",
       "      <td>...</td>\n",
       "      <td>...</td>\n",
       "      <td>...</td>\n",
       "      <td>...</td>\n",
       "      <td>...</td>\n",
       "      <td>...</td>\n",
       "      <td>...</td>\n",
       "      <td>...</td>\n",
       "    </tr>\n",
       "    <tr>\n",
       "      <th>169</th>\n",
       "      <td>nia+456@rowan.kr</td>\n",
       "      <td>CN</td>\n",
       "      <td>1.542480</td>\n",
       "      <td>573.781250</td>\n",
       "      <td>2676.125000</td>\n",
       "      <td>10846.750000</td>\n",
       "      <td>5.421875</td>\n",
       "      <td>610.515625</td>\n",
       "      <td>0.609375</td>\n",
       "      <td>283.140625</td>\n",
       "      <td>...</td>\n",
       "      <td>88.718750</td>\n",
       "      <td>85.031250</td>\n",
       "      <td>57.468750</td>\n",
       "      <td>42.156250</td>\n",
       "      <td>83.828125</td>\n",
       "      <td>31.234375</td>\n",
       "      <td>51.750000</td>\n",
       "      <td>-0.125469</td>\n",
       "      <td>-0.125469</td>\n",
       "      <td>18961.875000</td>\n",
       "    </tr>\n",
       "    <tr>\n",
       "      <th>170</th>\n",
       "      <td>nia+458@rowan.kr</td>\n",
       "      <td>CN</td>\n",
       "      <td>1.257353</td>\n",
       "      <td>200.549020</td>\n",
       "      <td>2206.941176</td>\n",
       "      <td>3377.098039</td>\n",
       "      <td>0.588235</td>\n",
       "      <td>507.117647</td>\n",
       "      <td>0.392157</td>\n",
       "      <td>206.823529</td>\n",
       "      <td>...</td>\n",
       "      <td>90.686275</td>\n",
       "      <td>88.882353</td>\n",
       "      <td>72.745098</td>\n",
       "      <td>67.705882</td>\n",
       "      <td>75.529412</td>\n",
       "      <td>82.607843</td>\n",
       "      <td>85.274510</td>\n",
       "      <td>-0.040000</td>\n",
       "      <td>-0.040000</td>\n",
       "      <td>28078.823529</td>\n",
       "    </tr>\n",
       "    <tr>\n",
       "      <th>171</th>\n",
       "      <td>nia+462@rowan.kr</td>\n",
       "      <td>MCI</td>\n",
       "      <td>1.595274</td>\n",
       "      <td>654.780488</td>\n",
       "      <td>2748.975610</td>\n",
       "      <td>12247.487805</td>\n",
       "      <td>3.121951</td>\n",
       "      <td>473.658537</td>\n",
       "      <td>0.560976</td>\n",
       "      <td>309.951220</td>\n",
       "      <td>...</td>\n",
       "      <td>90.073171</td>\n",
       "      <td>99.634146</td>\n",
       "      <td>71.121951</td>\n",
       "      <td>63.146341</td>\n",
       "      <td>85.317073</td>\n",
       "      <td>28.951220</td>\n",
       "      <td>68.634146</td>\n",
       "      <td>-0.037317</td>\n",
       "      <td>-0.037317</td>\n",
       "      <td>23045.121951</td>\n",
       "    </tr>\n",
       "    <tr>\n",
       "      <th>172</th>\n",
       "      <td>nia+475@rowan.kr</td>\n",
       "      <td>CN</td>\n",
       "      <td>1.397418</td>\n",
       "      <td>311.869565</td>\n",
       "      <td>2410.043478</td>\n",
       "      <td>5543.195652</td>\n",
       "      <td>0.108696</td>\n",
       "      <td>675.282609</td>\n",
       "      <td>1.130435</td>\n",
       "      <td>278.891304</td>\n",
       "      <td>...</td>\n",
       "      <td>57.130435</td>\n",
       "      <td>94.456522</td>\n",
       "      <td>68.130435</td>\n",
       "      <td>80.413043</td>\n",
       "      <td>85.913043</td>\n",
       "      <td>27.586957</td>\n",
       "      <td>54.695652</td>\n",
       "      <td>-0.159348</td>\n",
       "      <td>-0.159348</td>\n",
       "      <td>19752.391304</td>\n",
       "    </tr>\n",
       "    <tr>\n",
       "      <th>173</th>\n",
       "      <td>nia+85@rowan.kr</td>\n",
       "      <td>CN</td>\n",
       "      <td>1.336538</td>\n",
       "      <td>290.494505</td>\n",
       "      <td>2327.934066</td>\n",
       "      <td>5319.571429</td>\n",
       "      <td>0.274725</td>\n",
       "      <td>551.516484</td>\n",
       "      <td>0.538462</td>\n",
       "      <td>228.934066</td>\n",
       "      <td>...</td>\n",
       "      <td>87.626374</td>\n",
       "      <td>95.340659</td>\n",
       "      <td>76.604396</td>\n",
       "      <td>78.186813</td>\n",
       "      <td>82.230769</td>\n",
       "      <td>37.230769</td>\n",
       "      <td>63.285714</td>\n",
       "      <td>-0.008681</td>\n",
       "      <td>-0.008681</td>\n",
       "      <td>21857.142857</td>\n",
       "    </tr>\n",
       "  </tbody>\n",
       "</table>\n",
       "<p>174 rows × 53 columns</p>\n",
       "</div>"
      ],
      "text/plain": [
       "                EMAIL DIAG_NM  activity_average_met  activity_cal_active  \\\n",
       "0    nia+003@rowan.kr     MCI              1.262897           202.571429   \n",
       "1    nia+005@rowan.kr      CN              1.370299           217.477876   \n",
       "2    nia+010@rowan.kr     MCI              1.390625           259.672414   \n",
       "3    nia+013@rowan.kr     MCI              1.478484           493.147541   \n",
       "4    nia+014@rowan.kr     MCI              1.442555           401.382353   \n",
       "..                ...     ...                   ...                  ...   \n",
       "169  nia+456@rowan.kr      CN              1.542480           573.781250   \n",
       "170  nia+458@rowan.kr      CN              1.257353           200.549020   \n",
       "171  nia+462@rowan.kr     MCI              1.595274           654.780488   \n",
       "172  nia+475@rowan.kr      CN              1.397418           311.869565   \n",
       "173   nia+85@rowan.kr      CN              1.336538           290.494505   \n",
       "\n",
       "     activity_cal_total  activity_daily_movement  activity_high  \\\n",
       "0           2208.333333              3659.730159       0.793651   \n",
       "1           1773.504425              5084.876106       0.256637   \n",
       "2           2365.137931              3877.741379       0.637931   \n",
       "3           2577.590164              8769.811475       0.836066   \n",
       "4           2503.882353              7250.514706       0.382353   \n",
       "..                  ...                      ...            ...   \n",
       "169         2676.125000             10846.750000       5.421875   \n",
       "170         2206.941176              3377.098039       0.588235   \n",
       "171         2748.975610             12247.487805       3.121951   \n",
       "172         2410.043478              5543.195652       0.108696   \n",
       "173         2327.934066              5319.571429       0.274725   \n",
       "\n",
       "     activity_inactive  activity_inactivity_alerts  activity_low  ...  \\\n",
       "0           615.142857                    0.809524    146.428571  ...   \n",
       "1           574.619469                    0.539823    281.300885  ...   \n",
       "2           632.482759                    0.362069    328.827586  ...   \n",
       "3           481.016393                    0.745902    314.918033  ...   \n",
       "4           534.470588                    0.176471    343.852941  ...   \n",
       "..                 ...                         ...           ...  ...   \n",
       "169         610.515625                    0.609375    283.140625  ...   \n",
       "170         507.117647                    0.392157    206.823529  ...   \n",
       "171         473.658537                    0.560976    309.951220  ...   \n",
       "172         675.282609                    1.130435    278.891304  ...   \n",
       "173         551.516484                    0.538462    228.934066  ...   \n",
       "\n",
       "     sleep_score_alignment  sleep_score_deep  sleep_score_disturbances  \\\n",
       "0                74.809524         75.492063                 57.634921   \n",
       "1                86.849558         89.345133                 83.601770   \n",
       "2                97.931034         61.517241                 63.758621   \n",
       "3                90.139344         97.606557                 72.549180   \n",
       "4                94.764706         76.867647                 55.500000   \n",
       "..                     ...               ...                       ...   \n",
       "169              88.718750         85.031250                 57.468750   \n",
       "170              90.686275         88.882353                 72.745098   \n",
       "171              90.073171         99.634146                 71.121951   \n",
       "172              57.130435         94.456522                 68.130435   \n",
       "173              87.626374         95.340659                 76.604396   \n",
       "\n",
       "     sleep_score_efficiency  sleep_score_latency  sleep_score_rem  \\\n",
       "0                 65.253968            78.650794        54.904762   \n",
       "1                 97.663717            83.973451        74.433628   \n",
       "2                 58.034483            76.965517        64.672414   \n",
       "3                 88.073770            81.721311        36.295082   \n",
       "4                 66.970588            82.500000        38.779412   \n",
       "..                      ...                  ...              ...   \n",
       "169               42.156250            83.828125        31.234375   \n",
       "170               67.705882            75.529412        82.607843   \n",
       "171               63.146341            85.317073        28.951220   \n",
       "172               80.413043            85.913043        27.586957   \n",
       "173               78.186813            82.230769        37.230769   \n",
       "\n",
       "     sleep_score_total  sleep_temperature_delta  sleep_temperature_deviation  \\\n",
       "0            69.730159                 0.022222                     0.022222   \n",
       "1            81.097345                 0.057434                     0.057434   \n",
       "2            58.344828                -0.045862                    -0.045862   \n",
       "3            69.049180                 0.008033                     0.008033   \n",
       "4            63.573529                -0.129706                    -0.129706   \n",
       "..                 ...                      ...                          ...   \n",
       "169          51.750000                -0.125469                    -0.125469   \n",
       "170          85.274510                -0.040000                    -0.040000   \n",
       "171          68.634146                -0.037317                    -0.037317   \n",
       "172          54.695652                -0.159348                    -0.159348   \n",
       "173          63.285714                -0.008681                    -0.008681   \n",
       "\n",
       "      sleep_total  \n",
       "0    23543.809524  \n",
       "1    28060.088496  \n",
       "2    20247.413793  \n",
       "3    23163.196721  \n",
       "4    21879.264706  \n",
       "..            ...  \n",
       "169  18961.875000  \n",
       "170  28078.823529  \n",
       "171  23045.121951  \n",
       "172  19752.391304  \n",
       "173  21857.142857  \n",
       "\n",
       "[174 rows x 53 columns]"
      ]
     },
     "execution_count": 2,
     "metadata": {},
     "output_type": "execute_result"
    }
   ],
   "source": [
    "data = pd.read_csv(\"activity_sleep_label.csv\")\n",
    "data"
   ]
  },
  {
   "cell_type": "code",
   "execution_count": 3,
   "metadata": {},
   "outputs": [
    {
     "data": {
      "text/plain": [
       "array([[ 1.26289683e+00,  2.02571429e+02,  2.20833333e+03, ...,\n",
       "         2.22222222e-02,  2.22222222e-02,  2.35438095e+04],\n",
       "       [ 1.37029867e+00,  2.17477876e+02,  1.77350442e+03, ...,\n",
       "         5.74336283e-02,  5.74336283e-02,  2.80600885e+04],\n",
       "       [ 1.39062500e+00,  2.59672414e+02,  2.36513793e+03, ...,\n",
       "        -4.58620690e-02, -4.58620690e-02,  2.02474138e+04],\n",
       "       ...,\n",
       "       [ 1.59527439e+00,  6.54780488e+02,  2.74897561e+03, ...,\n",
       "        -3.73170732e-02, -3.73170732e-02,  2.30451220e+04],\n",
       "       [ 1.39741848e+00,  3.11869565e+02,  2.41004348e+03, ...,\n",
       "        -1.59347826e-01, -1.59347826e-01,  1.97523913e+04],\n",
       "       [ 1.33653846e+00,  2.90494505e+02,  2.32793407e+03, ...,\n",
       "        -8.68131868e-03, -8.68131868e-03,  2.18571429e+04]])"
      ]
     },
     "execution_count": 3,
     "metadata": {},
     "output_type": "execute_result"
    }
   ],
   "source": [
    "X = data.iloc[:,2:].to_numpy()\n",
    "X"
   ]
  },
  {
   "cell_type": "code",
   "execution_count": 4,
   "metadata": {},
   "outputs": [
    {
     "data": {
      "text/plain": [
       "array(['MCI', 'CN', 'MCI', 'MCI', 'MCI', 'CN', 'MCI', 'Dem', 'CN', 'MCI',\n",
       "       'CN', 'CN', 'CN', 'MCI', 'CN', 'CN', 'MCI', 'MCI', 'Dem', 'MCI',\n",
       "       'CN', 'MCI', 'MCI', 'CN', 'MCI', 'Dem', 'MCI', 'MCI', 'CN', 'CN',\n",
       "       'CN', 'MCI', 'CN', 'MCI', 'MCI', 'MCI', 'CN', 'CN', 'MCI', 'Dem',\n",
       "       'CN', 'CN', 'CN', 'CN', 'MCI', 'MCI', 'MCI', 'CN', 'MCI', 'CN',\n",
       "       'Dem', 'CN', 'MCI', 'CN', 'MCI', 'MCI', 'MCI', 'MCI', 'CN', 'CN',\n",
       "       'CN', 'MCI', 'CN', 'CN', 'MCI', 'CN', 'CN', 'MCI', 'MCI', 'CN',\n",
       "       'MCI', 'CN', 'Dem', 'CN', 'MCI', 'CN', 'CN', 'MCI', 'CN', 'Dem',\n",
       "       'CN', 'CN', 'CN', 'CN', 'CN', 'Dem', 'CN', 'CN', 'MCI', 'CN', 'CN',\n",
       "       'MCI', 'MCI', 'CN', 'MCI', 'CN', 'MCI', 'CN', 'CN', 'MCI', 'CN',\n",
       "       'MCI', 'MCI', 'Dem', 'MCI', 'CN', 'MCI', 'Dem', 'CN', 'CN', 'CN',\n",
       "       'CN', 'CN', 'CN', 'CN', 'CN', 'CN', 'CN', 'CN', 'CN', 'CN', 'MCI',\n",
       "       'CN', 'MCI', 'Dem', 'Dem', 'CN', 'CN', 'CN', 'CN', 'CN', 'CN',\n",
       "       'CN', 'CN', 'CN', 'CN', 'CN', 'CN', 'CN', 'CN', 'CN', 'CN', 'CN',\n",
       "       'CN', 'CN', 'CN', 'CN', 'CN', 'CN', 'CN', 'CN', 'CN', 'CN', 'CN',\n",
       "       'CN', 'CN', 'CN', 'CN', 'CN', 'CN', 'CN', 'CN', 'MCI', 'CN', 'CN',\n",
       "       'CN', 'MCI', 'CN', 'CN', 'CN', 'CN', 'MCI', 'CN', 'CN'],\n",
       "      dtype=object)"
      ]
     },
     "execution_count": 4,
     "metadata": {},
     "output_type": "execute_result"
    }
   ],
   "source": [
    "y = data.iloc[:, 1].to_numpy()\n",
    "y"
   ]
  },
  {
   "cell_type": "code",
   "execution_count": 5,
   "metadata": {},
   "outputs": [
    {
     "name": "stdout",
     "output_type": "stream",
     "text": [
      "121 53\n"
     ]
    }
   ],
   "source": [
    "# 전체 데이터 세트를 학습 세트(training set)와 검증 세트(test set)로 나눔\n",
    "X_train, X_test, y_train, y_test = train_test_split(X, y, test_size=0.3)\n",
    "print(len(X_train), len(X_test))"
   ]
  },
  {
   "cell_type": "code",
   "execution_count": 6,
   "metadata": {},
   "outputs": [],
   "source": [
    "# Z-score 표준화: 평균을 0, 표준편차 1로 변환\n",
    "scaler = StandardScaler() # Scaler 객체 생성\n",
    "scaler.fit(X_train) # 스케일링(표준화)를 위한 평균과 표준 편차 계산\n",
    "X_train = scaler.transform(X_train) # 스케일링(표준화 수행)\n",
    "X_test = scaler.transform(X_test)"
   ]
  },
  {
   "cell_type": "code",
   "execution_count": 7,
   "metadata": {},
   "outputs": [
    {
     "name": "stdout",
     "output_type": "stream",
     "text": [
      "평균 = -1.2698749306456335e-15, 표준편차= 1.0\n",
      "평균 = -3.303142883182284e-17, 표준편차= 1.0\n",
      "평균 = 9.98283182472868e-16, 표준편차= 1.0\n",
      "평균 = -1.9818857299093704e-16, 표준편차= 1.0\n"
     ]
    }
   ],
   "source": [
    "# 스케일링(z-score 표준화 수행 결과 확인)\n",
    "for col in range(4):\n",
    "    print(f'평균 = {X_train[:, col].mean()}, 표준편차= {X_train[:, col].std()}')"
   ]
  },
  {
   "cell_type": "code",
   "execution_count": 8,
   "metadata": {},
   "outputs": [
    {
     "name": "stdout",
     "output_type": "stream",
     "text": [
      "평균 = -0.09655328879191553, 표준편차= 1.0423359210775147\n",
      "평균 = -0.1132864338137226, 표준편차= 1.0084227465972908\n",
      "평균 = -0.07245356850572926, 표준편차= 0.9474485353833701\n",
      "평균 = -0.11030731828237116, 표준편차= 1.0512270431060822\n"
     ]
    }
   ],
   "source": [
    "for col in range(4):\n",
    "    print(f'평균 = {X_test[:, col].mean()}, 표준편차= {X_test[:, col].std()}')"
   ]
  },
  {
   "cell_type": "code",
   "execution_count": 9,
   "metadata": {},
   "outputs": [
    {
     "data": {
      "text/html": [
       "<style>#sk-container-id-1 {color: black;}#sk-container-id-1 pre{padding: 0;}#sk-container-id-1 div.sk-toggleable {background-color: white;}#sk-container-id-1 label.sk-toggleable__label {cursor: pointer;display: block;width: 100%;margin-bottom: 0;padding: 0.3em;box-sizing: border-box;text-align: center;}#sk-container-id-1 label.sk-toggleable__label-arrow:before {content: \"▸\";float: left;margin-right: 0.25em;color: #696969;}#sk-container-id-1 label.sk-toggleable__label-arrow:hover:before {color: black;}#sk-container-id-1 div.sk-estimator:hover label.sk-toggleable__label-arrow:before {color: black;}#sk-container-id-1 div.sk-toggleable__content {max-height: 0;max-width: 0;overflow: hidden;text-align: left;background-color: #f0f8ff;}#sk-container-id-1 div.sk-toggleable__content pre {margin: 0.2em;color: black;border-radius: 0.25em;background-color: #f0f8ff;}#sk-container-id-1 input.sk-toggleable__control:checked~div.sk-toggleable__content {max-height: 200px;max-width: 100%;overflow: auto;}#sk-container-id-1 input.sk-toggleable__control:checked~label.sk-toggleable__label-arrow:before {content: \"▾\";}#sk-container-id-1 div.sk-estimator input.sk-toggleable__control:checked~label.sk-toggleable__label {background-color: #d4ebff;}#sk-container-id-1 div.sk-label input.sk-toggleable__control:checked~label.sk-toggleable__label {background-color: #d4ebff;}#sk-container-id-1 input.sk-hidden--visually {border: 0;clip: rect(1px 1px 1px 1px);clip: rect(1px, 1px, 1px, 1px);height: 1px;margin: -1px;overflow: hidden;padding: 0;position: absolute;width: 1px;}#sk-container-id-1 div.sk-estimator {font-family: monospace;background-color: #f0f8ff;border: 1px dotted black;border-radius: 0.25em;box-sizing: border-box;margin-bottom: 0.5em;}#sk-container-id-1 div.sk-estimator:hover {background-color: #d4ebff;}#sk-container-id-1 div.sk-parallel-item::after {content: \"\";width: 100%;border-bottom: 1px solid gray;flex-grow: 1;}#sk-container-id-1 div.sk-label:hover label.sk-toggleable__label {background-color: #d4ebff;}#sk-container-id-1 div.sk-serial::before {content: \"\";position: absolute;border-left: 1px solid gray;box-sizing: border-box;top: 0;bottom: 0;left: 50%;z-index: 0;}#sk-container-id-1 div.sk-serial {display: flex;flex-direction: column;align-items: center;background-color: white;padding-right: 0.2em;padding-left: 0.2em;position: relative;}#sk-container-id-1 div.sk-item {position: relative;z-index: 1;}#sk-container-id-1 div.sk-parallel {display: flex;align-items: stretch;justify-content: center;background-color: white;position: relative;}#sk-container-id-1 div.sk-item::before, #sk-container-id-1 div.sk-parallel-item::before {content: \"\";position: absolute;border-left: 1px solid gray;box-sizing: border-box;top: 0;bottom: 0;left: 50%;z-index: -1;}#sk-container-id-1 div.sk-parallel-item {display: flex;flex-direction: column;z-index: 1;position: relative;background-color: white;}#sk-container-id-1 div.sk-parallel-item:first-child::after {align-self: flex-end;width: 50%;}#sk-container-id-1 div.sk-parallel-item:last-child::after {align-self: flex-start;width: 50%;}#sk-container-id-1 div.sk-parallel-item:only-child::after {width: 0;}#sk-container-id-1 div.sk-dashed-wrapped {border: 1px dashed gray;margin: 0 0.4em 0.5em 0.4em;box-sizing: border-box;padding-bottom: 0.4em;background-color: white;}#sk-container-id-1 div.sk-label label {font-family: monospace;font-weight: bold;display: inline-block;line-height: 1.2em;}#sk-container-id-1 div.sk-label-container {text-align: center;}#sk-container-id-1 div.sk-container {/* jupyter's `normalize.less` sets `[hidden] { display: none; }` but bootstrap.min.css set `[hidden] { display: none !important; }` so we also need the `!important` here to be able to override the default hidden behavior on the sphinx rendered scikit-learn.org. See: https://github.com/scikit-learn/scikit-learn/issues/21755 */display: inline-block !important;position: relative;}#sk-container-id-1 div.sk-text-repr-fallback {display: none;}</style><div id=\"sk-container-id-1\" class=\"sk-top-container\"><div class=\"sk-text-repr-fallback\"><pre>KNeighborsClassifier()</pre><b>In a Jupyter environment, please rerun this cell to show the HTML representation or trust the notebook. <br />On GitHub, the HTML representation is unable to render, please try loading this page with nbviewer.org.</b></div><div class=\"sk-container\" hidden><div class=\"sk-item\"><div class=\"sk-estimator sk-toggleable\"><input class=\"sk-toggleable__control sk-hidden--visually\" id=\"sk-estimator-id-1\" type=\"checkbox\" checked><label for=\"sk-estimator-id-1\" class=\"sk-toggleable__label sk-toggleable__label-arrow\">KNeighborsClassifier</label><div class=\"sk-toggleable__content\"><pre>KNeighborsClassifier()</pre></div></div></div></div></div>"
      ],
      "text/plain": [
       "KNeighborsClassifier()"
      ]
     },
     "execution_count": 9,
     "metadata": {},
     "output_type": "execute_result"
    }
   ],
   "source": [
    "# k-NN 분류기를 생성\n",
    "classifier = KNeighborsClassifier(n_neighbors=5)\n",
    "# 분류기 학습\n",
    "classifier.fit(X_train, y_train)"
   ]
  },
  {
   "cell_type": "code",
   "execution_count": 10,
   "metadata": {},
   "outputs": [
    {
     "name": "stdout",
     "output_type": "stream",
     "text": [
      "['CN' 'CN' 'CN' 'CN' 'CN' 'CN' 'CN' 'CN' 'CN' 'MCI' 'CN' 'MCI' 'CN' 'CN'\n",
      " 'CN' 'CN' 'MCI' 'MCI' 'CN' 'CN' 'CN' 'CN' 'CN' 'CN' 'CN' 'MCI' 'CN' 'CN'\n",
      " 'CN' 'CN' 'MCI' 'CN' 'MCI' 'CN' 'CN' 'CN' 'CN' 'CN' 'MCI' 'MCI' 'CN' 'CN'\n",
      " 'CN' 'CN' 'CN' 'CN' 'CN' 'CN' 'CN' 'CN' 'CN' 'CN' 'CN']\n"
     ]
    }
   ],
   "source": [
    "# 예측\n",
    "y_pred= classifier.predict(X_test)\n",
    "print(y_pred)"
   ]
  },
  {
   "cell_type": "code",
   "execution_count": 11,
   "metadata": {},
   "outputs": [
    {
     "name": "stdout",
     "output_type": "stream",
     "text": [
      "[[27  0  6]\n",
      " [ 4  0  0]\n",
      " [13  0  3]]\n"
     ]
    }
   ],
   "source": [
    "conf_matrix= confusion_matrix(y_test, y_pred)\n",
    "print(conf_matrix)"
   ]
  },
  {
   "cell_type": "code",
   "execution_count": 12,
   "metadata": {},
   "outputs": [
    {
     "name": "stdout",
     "output_type": "stream",
     "text": [
      "              precision    recall  f1-score   support\n",
      "\n",
      "          CN       0.61      0.82      0.70        33\n",
      "         Dem       0.00      0.00      0.00         4\n",
      "         MCI       0.33      0.19      0.24        16\n",
      "\n",
      "    accuracy                           0.57        53\n",
      "   macro avg       0.32      0.34      0.31        53\n",
      "weighted avg       0.48      0.57      0.51        53\n",
      "\n"
     ]
    },
    {
     "name": "stderr",
     "output_type": "stream",
     "text": [
      "/Library/Frameworks/Python.framework/Versions/3.12/lib/python3.12/site-packages/sklearn/metrics/_classification.py:1471: UndefinedMetricWarning: Precision and F-score are ill-defined and being set to 0.0 in labels with no predicted samples. Use `zero_division` parameter to control this behavior.\n",
      "  _warn_prf(average, modifier, msg_start, len(result))\n",
      "/Library/Frameworks/Python.framework/Versions/3.12/lib/python3.12/site-packages/sklearn/metrics/_classification.py:1471: UndefinedMetricWarning: Precision and F-score are ill-defined and being set to 0.0 in labels with no predicted samples. Use `zero_division` parameter to control this behavior.\n",
      "  _warn_prf(average, modifier, msg_start, len(result))\n",
      "/Library/Frameworks/Python.framework/Versions/3.12/lib/python3.12/site-packages/sklearn/metrics/_classification.py:1471: UndefinedMetricWarning: Precision and F-score are ill-defined and being set to 0.0 in labels with no predicted samples. Use `zero_division` parameter to control this behavior.\n",
      "  _warn_prf(average, modifier, msg_start, len(result))\n"
     ]
    }
   ],
   "source": [
    "report = classification_report(y_test, y_pred)\n",
    "print(report)"
   ]
  },
  {
   "cell_type": "code",
   "execution_count": 13,
   "metadata": {},
   "outputs": [
    {
     "name": "stdout",
     "output_type": "stream",
     "text": [
      "[0.5660377358490566, 0.33962264150943394, 0.49056603773584906, 0.4339622641509434, 0.4339622641509434, 0.39622641509433965, 0.41509433962264153, 0.39622641509433965, 0.41509433962264153, 0.39622641509433965, 0.39622641509433965, 0.39622641509433965, 0.41509433962264153, 0.37735849056603776, 0.37735849056603776, 0.37735849056603776, 0.39622641509433965, 0.37735849056603776, 0.39622641509433965, 0.37735849056603776, 0.39622641509433965, 0.37735849056603776, 0.37735849056603776, 0.37735849056603776, 0.37735849056603776, 0.37735849056603776, 0.37735849056603776, 0.37735849056603776, 0.37735849056603776, 0.37735849056603776]\n"
     ]
    }
   ],
   "source": [
    "errors = []\n",
    "for i in range(1, 31):\n",
    "    knn = KNeighborsClassifier(n_neighbors = i)\n",
    "    knn.fit(X_train, y_train)\n",
    "    pred_i = knn.predict(X_test)\n",
    "    errors.append(np.mean(pred_i != y_test))\n",
    "print(errors)"
   ]
  },
  {
   "cell_type": "code",
   "execution_count": 14,
   "metadata": {},
   "outputs": [
    {
     "data": {
      "text/plain": [
       "0.33962264150943394"
      ]
     },
     "execution_count": 14,
     "metadata": {},
     "output_type": "execute_result"
    }
   ],
   "source": [
    "min(errors)"
   ]
  },
  {
   "cell_type": "code",
   "execution_count": 15,
   "metadata": {},
   "outputs": [
    {
     "data": {
      "text/plain": [
       "1"
      ]
     },
     "execution_count": 15,
     "metadata": {},
     "output_type": "execute_result"
    }
   ],
   "source": [
    "errors.index(min(errors))"
   ]
  },
  {
   "cell_type": "code",
   "execution_count": 16,
   "metadata": {},
   "outputs": [
    {
     "data": {
      "image/png": "[encoded data removed]",
      "text/plain": [
       "<Figure size 640x480 with 1 Axes>"
      ]
     },
     "metadata": {},
     "output_type": "display_data"
    }
   ],
   "source": [
    "plt.plot(range(1, 31), errors, marker='o')\n",
    "plt.title('Mean error with K-Value')\n",
    "plt.xlabel('k-value')\n",
    "plt.ylabel('mean error')\n",
    "plt.show()"
   ]
  },
  {
   "cell_type": "code",
   "execution_count": null,
   "metadata": {},
   "outputs": [],
   "source": []
  }
 ],
 "metadata": {
  "kernelspec": {
   "display_name": "Python 3",
   "language": "python",
   "name": "python3"
  },
  "language_info": {
   "codemirror_mode": {
    "name": "ipython",
    "version": 3
   },
   "file_extension": ".py",
   "mimetype": "text/x-python",
   "name": "python",
   "nbconvert_exporter": "python",
   "pygments_lexer": "ipython3",
   "version": "3.12.0"
  }
 },
 "nbformat": 4,
 "nbformat_minor": 2
}
