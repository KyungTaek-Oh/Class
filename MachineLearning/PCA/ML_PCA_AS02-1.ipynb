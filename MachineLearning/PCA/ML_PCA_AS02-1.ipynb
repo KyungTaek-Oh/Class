{
 "cells": [
  {
   "cell_type": "markdown",
   "metadata": {},
   "source": [
    "## 1. What is PCA?\n",
    "* The PCA Algorithm works by computing principal components where it retains datasets in the **direction of maximum variance** in the original datasets\n",
    "* PCA is a procedure that uses an orthogonal transformation to convert a set of observations possibly correlated variables into a set of values of linearly uncorrelated variables."
   ]
  },
  {
   "cell_type": "markdown",
   "metadata": {},
   "source": [
    "## 2. What is the step-by-step procedure of PCA?\n",
    "### 2.0. Import required libraries & data"
   ]
  },
  {
   "cell_type": "code",
   "execution_count": 107,
   "metadata": {},
   "outputs": [],
   "source": [
    "import pandas as pd\n",
    "from sklearn.model_selection import train_test_split\n",
    "from sklearn.preprocessing import StandardScaler\n",
    "from sklearn.preprocessing import normalize\n",
    "from sklearn.neighbors import KNeighborsClassifier\n",
    "from sklearn.metrics import confusion_matrix\n",
    "from sklearn.metrics import classification_report\n",
    "from sklearn import svm\n",
    "import numpy as np\n",
    "import matplotlib.pyplot as plt"
   ]
  },
  {
   "cell_type": "code",
   "execution_count": 2,
   "metadata": {},
   "outputs": [],
   "source": [
    "np.random.seed(42)"
   ]
  },
  {
   "cell_type": "code",
   "execution_count": 3,
   "metadata": {},
   "outputs": [
    {
     "data": {
      "text/html": [
       "<div>\n",
       "<style scoped>\n",
       "    .dataframe tbody tr th:only-of-type {\n",
       "        vertical-align: middle;\n",
       "    }\n",
       "\n",
       "    .dataframe tbody tr th {\n",
       "        vertical-align: top;\n",
       "    }\n",
       "\n",
       "    .dataframe thead th {\n",
       "        text-align: right;\n",
       "    }\n",
       "</style>\n",
       "<table border=\"1\" class=\"dataframe\">\n",
       "  <thead>\n",
       "    <tr style=\"text-align: right;\">\n",
       "      <th></th>\n",
       "      <th>EMAIL</th>\n",
       "      <th>DIAG_NM</th>\n",
       "      <th>activity_average_met</th>\n",
       "      <th>activity_cal_active</th>\n",
       "      <th>activity_cal_total</th>\n",
       "      <th>activity_daily_movement</th>\n",
       "      <th>activity_high</th>\n",
       "      <th>activity_inactive</th>\n",
       "      <th>activity_inactivity_alerts</th>\n",
       "      <th>activity_low</th>\n",
       "      <th>...</th>\n",
       "      <th>sleep_score_alignment</th>\n",
       "      <th>sleep_score_deep</th>\n",
       "      <th>sleep_score_disturbances</th>\n",
       "      <th>sleep_score_efficiency</th>\n",
       "      <th>sleep_score_latency</th>\n",
       "      <th>sleep_score_rem</th>\n",
       "      <th>sleep_score_total</th>\n",
       "      <th>sleep_temperature_delta</th>\n",
       "      <th>sleep_temperature_deviation</th>\n",
       "      <th>sleep_total</th>\n",
       "    </tr>\n",
       "  </thead>\n",
       "  <tbody>\n",
       "    <tr>\n",
       "      <th>0</th>\n",
       "      <td>nia+003@rowan.kr</td>\n",
       "      <td>MCI</td>\n",
       "      <td>1.262897</td>\n",
       "      <td>202.571429</td>\n",
       "      <td>2208.333333</td>\n",
       "      <td>3659.730159</td>\n",
       "      <td>0.793651</td>\n",
       "      <td>615.142857</td>\n",
       "      <td>0.809524</td>\n",
       "      <td>146.428571</td>\n",
       "      <td>...</td>\n",
       "      <td>74.809524</td>\n",
       "      <td>75.492063</td>\n",
       "      <td>57.634921</td>\n",
       "      <td>65.253968</td>\n",
       "      <td>78.650794</td>\n",
       "      <td>54.904762</td>\n",
       "      <td>69.730159</td>\n",
       "      <td>0.022222</td>\n",
       "      <td>0.022222</td>\n",
       "      <td>23543.809524</td>\n",
       "    </tr>\n",
       "    <tr>\n",
       "      <th>1</th>\n",
       "      <td>nia+005@rowan.kr</td>\n",
       "      <td>CN</td>\n",
       "      <td>1.370299</td>\n",
       "      <td>217.477876</td>\n",
       "      <td>1773.504425</td>\n",
       "      <td>5084.876106</td>\n",
       "      <td>0.256637</td>\n",
       "      <td>574.619469</td>\n",
       "      <td>0.539823</td>\n",
       "      <td>281.300885</td>\n",
       "      <td>...</td>\n",
       "      <td>86.849558</td>\n",
       "      <td>89.345133</td>\n",
       "      <td>83.601770</td>\n",
       "      <td>97.663717</td>\n",
       "      <td>83.973451</td>\n",
       "      <td>74.433628</td>\n",
       "      <td>81.097345</td>\n",
       "      <td>0.057434</td>\n",
       "      <td>0.057434</td>\n",
       "      <td>28060.088496</td>\n",
       "    </tr>\n",
       "    <tr>\n",
       "      <th>2</th>\n",
       "      <td>nia+010@rowan.kr</td>\n",
       "      <td>MCI</td>\n",
       "      <td>1.390625</td>\n",
       "      <td>259.672414</td>\n",
       "      <td>2365.137931</td>\n",
       "      <td>3877.741379</td>\n",
       "      <td>0.637931</td>\n",
       "      <td>632.482759</td>\n",
       "      <td>0.362069</td>\n",
       "      <td>328.827586</td>\n",
       "      <td>...</td>\n",
       "      <td>97.931034</td>\n",
       "      <td>61.517241</td>\n",
       "      <td>63.758621</td>\n",
       "      <td>58.034483</td>\n",
       "      <td>76.965517</td>\n",
       "      <td>64.672414</td>\n",
       "      <td>58.344828</td>\n",
       "      <td>-0.045862</td>\n",
       "      <td>-0.045862</td>\n",
       "      <td>20247.413793</td>\n",
       "    </tr>\n",
       "    <tr>\n",
       "      <th>3</th>\n",
       "      <td>nia+013@rowan.kr</td>\n",
       "      <td>MCI</td>\n",
       "      <td>1.478484</td>\n",
       "      <td>493.147541</td>\n",
       "      <td>2577.590164</td>\n",
       "      <td>8769.811475</td>\n",
       "      <td>0.836066</td>\n",
       "      <td>481.016393</td>\n",
       "      <td>0.745902</td>\n",
       "      <td>314.918033</td>\n",
       "      <td>...</td>\n",
       "      <td>90.139344</td>\n",
       "      <td>97.606557</td>\n",
       "      <td>72.549180</td>\n",
       "      <td>88.073770</td>\n",
       "      <td>81.721311</td>\n",
       "      <td>36.295082</td>\n",
       "      <td>69.049180</td>\n",
       "      <td>0.008033</td>\n",
       "      <td>0.008033</td>\n",
       "      <td>23163.196721</td>\n",
       "    </tr>\n",
       "    <tr>\n",
       "      <th>4</th>\n",
       "      <td>nia+014@rowan.kr</td>\n",
       "      <td>MCI</td>\n",
       "      <td>1.442555</td>\n",
       "      <td>401.382353</td>\n",
       "      <td>2503.882353</td>\n",
       "      <td>7250.514706</td>\n",
       "      <td>0.382353</td>\n",
       "      <td>534.470588</td>\n",
       "      <td>0.176471</td>\n",
       "      <td>343.852941</td>\n",
       "      <td>...</td>\n",
       "      <td>94.764706</td>\n",
       "      <td>76.867647</td>\n",
       "      <td>55.500000</td>\n",
       "      <td>66.970588</td>\n",
       "      <td>82.500000</td>\n",
       "      <td>38.779412</td>\n",
       "      <td>63.573529</td>\n",
       "      <td>-0.129706</td>\n",
       "      <td>-0.129706</td>\n",
       "      <td>21879.264706</td>\n",
       "    </tr>\n",
       "    <tr>\n",
       "      <th>...</th>\n",
       "      <td>...</td>\n",
       "      <td>...</td>\n",
       "      <td>...</td>\n",
       "      <td>...</td>\n",
       "      <td>...</td>\n",
       "      <td>...</td>\n",
       "      <td>...</td>\n",
       "      <td>...</td>\n",
       "      <td>...</td>\n",
       "      <td>...</td>\n",
       "      <td>...</td>\n",
       "      <td>...</td>\n",
       "      <td>...</td>\n",
       "      <td>...</td>\n",
       "      <td>...</td>\n",
       "      <td>...</td>\n",
       "      <td>...</td>\n",
       "      <td>...</td>\n",
       "      <td>...</td>\n",
       "      <td>...</td>\n",
       "      <td>...</td>\n",
       "    </tr>\n",
       "    <tr>\n",
       "      <th>169</th>\n",
       "      <td>nia+456@rowan.kr</td>\n",
       "      <td>CN</td>\n",
       "      <td>1.542480</td>\n",
       "      <td>573.781250</td>\n",
       "      <td>2676.125000</td>\n",
       "      <td>10846.750000</td>\n",
       "      <td>5.421875</td>\n",
       "      <td>610.515625</td>\n",
       "      <td>0.609375</td>\n",
       "      <td>283.140625</td>\n",
       "      <td>...</td>\n",
       "      <td>88.718750</td>\n",
       "      <td>85.031250</td>\n",
       "      <td>57.468750</td>\n",
       "      <td>42.156250</td>\n",
       "      <td>83.828125</td>\n",
       "      <td>31.234375</td>\n",
       "      <td>51.750000</td>\n",
       "      <td>-0.125469</td>\n",
       "      <td>-0.125469</td>\n",
       "      <td>18961.875000</td>\n",
       "    </tr>\n",
       "    <tr>\n",
       "      <th>170</th>\n",
       "      <td>nia+458@rowan.kr</td>\n",
       "      <td>CN</td>\n",
       "      <td>1.257353</td>\n",
       "      <td>200.549020</td>\n",
       "      <td>2206.941176</td>\n",
       "      <td>3377.098039</td>\n",
       "      <td>0.588235</td>\n",
       "      <td>507.117647</td>\n",
       "      <td>0.392157</td>\n",
       "      <td>206.823529</td>\n",
       "      <td>...</td>\n",
       "      <td>90.686275</td>\n",
       "      <td>88.882353</td>\n",
       "      <td>72.745098</td>\n",
       "      <td>67.705882</td>\n",
       "      <td>75.529412</td>\n",
       "      <td>82.607843</td>\n",
       "      <td>85.274510</td>\n",
       "      <td>-0.040000</td>\n",
       "      <td>-0.040000</td>\n",
       "      <td>28078.823529</td>\n",
       "    </tr>\n",
       "    <tr>\n",
       "      <th>171</th>\n",
       "      <td>nia+462@rowan.kr</td>\n",
       "      <td>MCI</td>\n",
       "      <td>1.595274</td>\n",
       "      <td>654.780488</td>\n",
       "      <td>2748.975610</td>\n",
       "      <td>12247.487805</td>\n",
       "      <td>3.121951</td>\n",
       "      <td>473.658537</td>\n",
       "      <td>0.560976</td>\n",
       "      <td>309.951220</td>\n",
       "      <td>...</td>\n",
       "      <td>90.073171</td>\n",
       "      <td>99.634146</td>\n",
       "      <td>71.121951</td>\n",
       "      <td>63.146341</td>\n",
       "      <td>85.317073</td>\n",
       "      <td>28.951220</td>\n",
       "      <td>68.634146</td>\n",
       "      <td>-0.037317</td>\n",
       "      <td>-0.037317</td>\n",
       "      <td>23045.121951</td>\n",
       "    </tr>\n",
       "    <tr>\n",
       "      <th>172</th>\n",
       "      <td>nia+475@rowan.kr</td>\n",
       "      <td>CN</td>\n",
       "      <td>1.397418</td>\n",
       "      <td>311.869565</td>\n",
       "      <td>2410.043478</td>\n",
       "      <td>5543.195652</td>\n",
       "      <td>0.108696</td>\n",
       "      <td>675.282609</td>\n",
       "      <td>1.130435</td>\n",
       "      <td>278.891304</td>\n",
       "      <td>...</td>\n",
       "      <td>57.130435</td>\n",
       "      <td>94.456522</td>\n",
       "      <td>68.130435</td>\n",
       "      <td>80.413043</td>\n",
       "      <td>85.913043</td>\n",
       "      <td>27.586957</td>\n",
       "      <td>54.695652</td>\n",
       "      <td>-0.159348</td>\n",
       "      <td>-0.159348</td>\n",
       "      <td>19752.391304</td>\n",
       "    </tr>\n",
       "    <tr>\n",
       "      <th>173</th>\n",
       "      <td>nia+85@rowan.kr</td>\n",
       "      <td>CN</td>\n",
       "      <td>1.336538</td>\n",
       "      <td>290.494505</td>\n",
       "      <td>2327.934066</td>\n",
       "      <td>5319.571429</td>\n",
       "      <td>0.274725</td>\n",
       "      <td>551.516484</td>\n",
       "      <td>0.538462</td>\n",
       "      <td>228.934066</td>\n",
       "      <td>...</td>\n",
       "      <td>87.626374</td>\n",
       "      <td>95.340659</td>\n",
       "      <td>76.604396</td>\n",
       "      <td>78.186813</td>\n",
       "      <td>82.230769</td>\n",
       "      <td>37.230769</td>\n",
       "      <td>63.285714</td>\n",
       "      <td>-0.008681</td>\n",
       "      <td>-0.008681</td>\n",
       "      <td>21857.142857</td>\n",
       "    </tr>\n",
       "  </tbody>\n",
       "</table>\n",
       "<p>174 rows × 53 columns</p>\n",
       "</div>"
      ],
      "text/plain": [
       "                EMAIL DIAG_NM  activity_average_met  activity_cal_active  \\\n",
       "0    nia+003@rowan.kr     MCI              1.262897           202.571429   \n",
       "1    nia+005@rowan.kr      CN              1.370299           217.477876   \n",
       "2    nia+010@rowan.kr     MCI              1.390625           259.672414   \n",
       "3    nia+013@rowan.kr     MCI              1.478484           493.147541   \n",
       "4    nia+014@rowan.kr     MCI              1.442555           401.382353   \n",
       "..                ...     ...                   ...                  ...   \n",
       "169  nia+456@rowan.kr      CN              1.542480           573.781250   \n",
       "170  nia+458@rowan.kr      CN              1.257353           200.549020   \n",
       "171  nia+462@rowan.kr     MCI              1.595274           654.780488   \n",
       "172  nia+475@rowan.kr      CN              1.397418           311.869565   \n",
       "173   nia+85@rowan.kr      CN              1.336538           290.494505   \n",
       "\n",
       "     activity_cal_total  activity_daily_movement  activity_high  \\\n",
       "0           2208.333333              3659.730159       0.793651   \n",
       "1           1773.504425              5084.876106       0.256637   \n",
       "2           2365.137931              3877.741379       0.637931   \n",
       "3           2577.590164              8769.811475       0.836066   \n",
       "4           2503.882353              7250.514706       0.382353   \n",
       "..                  ...                      ...            ...   \n",
       "169         2676.125000             10846.750000       5.421875   \n",
       "170         2206.941176              3377.098039       0.588235   \n",
       "171         2748.975610             12247.487805       3.121951   \n",
       "172         2410.043478              5543.195652       0.108696   \n",
       "173         2327.934066              5319.571429       0.274725   \n",
       "\n",
       "     activity_inactive  activity_inactivity_alerts  activity_low  ...  \\\n",
       "0           615.142857                    0.809524    146.428571  ...   \n",
       "1           574.619469                    0.539823    281.300885  ...   \n",
       "2           632.482759                    0.362069    328.827586  ...   \n",
       "3           481.016393                    0.745902    314.918033  ...   \n",
       "4           534.470588                    0.176471    343.852941  ...   \n",
       "..                 ...                         ...           ...  ...   \n",
       "169         610.515625                    0.609375    283.140625  ...   \n",
       "170         507.117647                    0.392157    206.823529  ...   \n",
       "171         473.658537                    0.560976    309.951220  ...   \n",
       "172         675.282609                    1.130435    278.891304  ...   \n",
       "173         551.516484                    0.538462    228.934066  ...   \n",
       "\n",
       "     sleep_score_alignment  sleep_score_deep  sleep_score_disturbances  \\\n",
       "0                74.809524         75.492063                 57.634921   \n",
       "1                86.849558         89.345133                 83.601770   \n",
       "2                97.931034         61.517241                 63.758621   \n",
       "3                90.139344         97.606557                 72.549180   \n",
       "4                94.764706         76.867647                 55.500000   \n",
       "..                     ...               ...                       ...   \n",
       "169              88.718750         85.031250                 57.468750   \n",
       "170              90.686275         88.882353                 72.745098   \n",
       "171              90.073171         99.634146                 71.121951   \n",
       "172              57.130435         94.456522                 68.130435   \n",
       "173              87.626374         95.340659                 76.604396   \n",
       "\n",
       "     sleep_score_efficiency  sleep_score_latency  sleep_score_rem  \\\n",
       "0                 65.253968            78.650794        54.904762   \n",
       "1                 97.663717            83.973451        74.433628   \n",
       "2                 58.034483            76.965517        64.672414   \n",
       "3                 88.073770            81.721311        36.295082   \n",
       "4                 66.970588            82.500000        38.779412   \n",
       "..                      ...                  ...              ...   \n",
       "169               42.156250            83.828125        31.234375   \n",
       "170               67.705882            75.529412        82.607843   \n",
       "171               63.146341            85.317073        28.951220   \n",
       "172               80.413043            85.913043        27.586957   \n",
       "173               78.186813            82.230769        37.230769   \n",
       "\n",
       "     sleep_score_total  sleep_temperature_delta  sleep_temperature_deviation  \\\n",
       "0            69.730159                 0.022222                     0.022222   \n",
       "1            81.097345                 0.057434                     0.057434   \n",
       "2            58.344828                -0.045862                    -0.045862   \n",
       "3            69.049180                 0.008033                     0.008033   \n",
       "4            63.573529                -0.129706                    -0.129706   \n",
       "..                 ...                      ...                          ...   \n",
       "169          51.750000                -0.125469                    -0.125469   \n",
       "170          85.274510                -0.040000                    -0.040000   \n",
       "171          68.634146                -0.037317                    -0.037317   \n",
       "172          54.695652                -0.159348                    -0.159348   \n",
       "173          63.285714                -0.008681                    -0.008681   \n",
       "\n",
       "      sleep_total  \n",
       "0    23543.809524  \n",
       "1    28060.088496  \n",
       "2    20247.413793  \n",
       "3    23163.196721  \n",
       "4    21879.264706  \n",
       "..            ...  \n",
       "169  18961.875000  \n",
       "170  28078.823529  \n",
       "171  23045.121951  \n",
       "172  19752.391304  \n",
       "173  21857.142857  \n",
       "\n",
       "[174 rows x 53 columns]"
      ]
     },
     "execution_count": 3,
     "metadata": {},
     "output_type": "execute_result"
    }
   ],
   "source": [
    "data = pd.read_csv(\"activity_sleep_label.csv\")\n",
    "data"
   ]
  },
  {
   "cell_type": "markdown",
   "metadata": {},
   "source": [
    "### 2.1. Perform data pre-processing\n",
    "(e.g. scaling on D-dimensional data)\n",
    "* It is critical to perform normalization prior to implementing the PCA algorithm"
   ]
  },
  {
   "cell_type": "code",
   "execution_count": 4,
   "metadata": {},
   "outputs": [
    {
     "data": {
      "text/plain": [
       "array([[ 2.62348609e-05,  4.20812939e-03,  4.58749414e-02, ...,\n",
       "         4.61634630e-07,  4.61634630e-07,  4.89088701e-01],\n",
       "       [ 2.76175314e-05,  4.38313354e-03,  3.57438967e-02, ...,\n",
       "         1.15753964e-06,  1.15753964e-06,  5.65533917e-01],\n",
       "       [ 3.38795672e-05,  6.32635613e-03,  5.76214647e-02, ...,\n",
       "        -1.11733001e-06, -1.11733001e-06,  4.93284398e-01],\n",
       "       ...,\n",
       "       [ 2.72332176e-05,  1.11778761e-02,  4.69282598e-02, ...,\n",
       "        -6.37046505e-07, -6.37046505e-07,  3.93407444e-01],\n",
       "       [ 3.47600852e-05,  7.75759934e-03,  5.99486252e-02, ...,\n",
       "        -3.96369742e-06, -3.96369742e-06,  4.91330847e-01],\n",
       "       [ 3.12045839e-05,  6.78226659e-03,  5.43510089e-02, ...,\n",
       "        -2.02685478e-07, -2.02685478e-07,  5.10305589e-01]])"
      ]
     },
     "execution_count": 4,
     "metadata": {},
     "output_type": "execute_result"
    }
   ],
   "source": [
    "# Exclude categorical data (dtype = string)\n",
    "to_be_normed = [col for col in data.columns if data[col].dtypes != 'object']\n",
    "# 1. Standardize the numerical data\n",
    "standardized_data = normalize(data[to_be_normed])\n",
    "standardized_data"
   ]
  },
  {
   "cell_type": "markdown",
   "metadata": {},
   "source": [
    "### 2.2. Compute a covariance matrix\n",
    "* This is needed to understand how features are correlated with each other\n",
    "* The covariance matrix is N X N symmetric matrix where N is the # of dimensions"
   ]
  },
  {
   "cell_type": "code",
   "execution_count": 5,
   "metadata": {},
   "outputs": [
    {
     "data": {
      "text/plain": [
       "array([[ 2.52316749e-11,  1.51178441e-08,  4.19631873e-08, ...,\n",
       "        -2.24954732e-13, -2.24954732e-13, -1.92505209e-08],\n",
       "       [ 1.51178441e-08,  1.82630954e-05,  2.72415805e-05, ...,\n",
       "         1.71732147e-10,  1.71732147e-10, -6.02912971e-05],\n",
       "       [ 4.19631873e-08,  2.72415805e-05,  7.60364908e-05, ...,\n",
       "        -9.75175533e-10, -9.75175533e-10, -4.06680888e-05],\n",
       "       ...,\n",
       "       [-2.24954732e-13,  1.71732147e-10, -9.75175533e-10, ...,\n",
       "         2.81173699e-12,  2.81173699e-12, -1.06003591e-09],\n",
       "       [-2.24954732e-13,  1.71732147e-10, -9.75175533e-10, ...,\n",
       "         2.81173699e-12,  2.81173699e-12, -1.06003591e-09],\n",
       "       [-1.92505209e-08, -6.02912971e-05, -4.06680888e-05, ...,\n",
       "        -1.06003591e-09, -1.06003591e-09,  1.52055688e-03]])"
      ]
     },
     "execution_count": 5,
     "metadata": {},
     "output_type": "execute_result"
    }
   ],
   "source": [
    "# 2. Calculate the covariance matrix\n",
    "cov_matrix = np.cov(standardized_data, rowvar=False)\n",
    "cov_matrix"
   ]
  },
  {
   "cell_type": "code",
   "execution_count": 6,
   "metadata": {},
   "outputs": [
    {
     "name": "stdout",
     "output_type": "stream",
     "text": [
      "Dimension of the data:51\n",
      "Shape of the covariance matrix:(51, 51)\n"
     ]
    }
   ],
   "source": [
    "# The covariance matrix is N X N symmetric matrix where N is the # of dimensions\n",
    "print(f\"Dimension of the data:{standardized_data.shape[1]}\")\n",
    "print(f\"Shape of the covariance matrix:{cov_matrix.shape}\")"
   ]
  },
  {
   "cell_type": "markdown",
   "metadata": {},
   "source": [
    "### 2.3. Calculate the eigenvalues and eigenvectors of the covariance matrix\n",
    "* This is needed to determine the **principal components** of the dataset"
   ]
  },
  {
   "cell_type": "code",
   "execution_count": 7,
   "metadata": {},
   "outputs": [
    {
     "name": "stdout",
     "output_type": "stream",
     "text": [
      "Dimension of the data: 51\n",
      "The number of the eigenvectors: 51\n",
      "Shape of the eigenvectors: (51, 51)\n"
     ]
    }
   ],
   "source": [
    "# 3. Calculate the eigenvalues and eigenvectors\n",
    "eigenvalues, eigenvectors = np.linalg.eigh(cov_matrix)\n",
    "print(f\"Dimension of the data: {standardized_data.shape[1]}\")\n",
    "print(f\"The number of the eigenvectors: {len(eigenvectors)}\")\n",
    "print(f\"Shape of the eigenvectors: {eigenvectors.shape}\")"
   ]
  },
  {
   "cell_type": "markdown",
   "metadata": {},
   "source": [
    "### 2.4. Sort the eigenvalue in descending order and find the corresponding eigenvector."
   ]
  },
  {
   "cell_type": "code",
   "execution_count": 8,
   "metadata": {},
   "outputs": [],
   "source": [
    "# 4. Sort eigenvectors in descending order of eigenvalues\n",
    "sorted_indices = np.argsort(eigenvalues)[::-1]\n",
    "sorted_eigenvalue = eigenvalues[sorted_indices]\n",
    "sorted_eigenvectors = eigenvectors[:,sorted_indices]"
   ]
  },
  {
   "cell_type": "code",
   "execution_count": 9,
   "metadata": {},
   "outputs": [
    {
     "data": {
      "text/plain": [
       "array([ 1.84998578e-02,  1.02123524e-02,  2.68908660e-03,  2.11577194e-03,\n",
       "        9.44952416e-04,  3.47942130e-04,  1.26552825e-04,  3.66087314e-05,\n",
       "        3.22513177e-05,  1.38202860e-05,  5.22922144e-06,  1.76850335e-06,\n",
       "        1.09609853e-06,  4.53781788e-07,  3.71030422e-07,  2.79278229e-07,\n",
       "        1.74274282e-07,  6.42588183e-08,  5.75869254e-08,  4.90496614e-08,\n",
       "        3.67915141e-08,  3.38848835e-08,  2.90564776e-08,  2.42348503e-08,\n",
       "        1.70794916e-08,  9.01348912e-09,  6.74771486e-09,  5.48214033e-09,\n",
       "        4.30040023e-09,  3.35123416e-09,  2.79558684e-09,  1.62623198e-09,\n",
       "        1.12182402e-09,  8.89299105e-10,  6.11022761e-10,  4.40026746e-10,\n",
       "        3.97694441e-10,  3.28709097e-10,  1.81666369e-10,  5.60900862e-11,\n",
       "        3.66390545e-11,  4.66073277e-12,  3.63971342e-12,  2.00993493e-12,\n",
       "        3.46630677e-13,  1.71708513e-14,  2.16174160e-15,  2.25300143e-18,\n",
       "        3.76784777e-19,  1.31342704e-35, -6.08926987e-20])"
      ]
     },
     "execution_count": 9,
     "metadata": {},
     "output_type": "execute_result"
    }
   ],
   "source": [
    "sorted_eigenvalue"
   ]
  },
  {
   "cell_type": "code",
   "execution_count": 10,
   "metadata": {},
   "outputs": [
    {
     "data": {
      "text/plain": [
       "array([[ 2.81099994e-05, -2.23504043e-06, -8.15349852e-06, ...,\n",
       "         0.00000000e+00,  0.00000000e+00,  0.00000000e+00],\n",
       "       [ 2.93778006e-02,  1.29022342e-02,  2.25099996e-03, ...,\n",
       "         6.86860231e-10, -5.08166237e-19,  3.90995312e-11],\n",
       "       [ 4.77521749e-02, -1.39106310e-03, -1.28359081e-02, ...,\n",
       "         7.34610814e-11,  7.81011428e-20, -6.54706674e-12],\n",
       "       ...,\n",
       "       [ 7.20894446e-07,  2.12543394e-07, -1.19241563e-06, ...,\n",
       "         5.31134836e-08, -7.07106781e-01,  1.18650260e-08],\n",
       "       [ 7.20894446e-07,  2.12543394e-07, -1.19241563e-06, ...,\n",
       "         5.31134837e-08,  7.07106781e-01,  1.18650252e-08],\n",
       "       [-4.14991266e-02, -2.82242153e-01, -3.22116806e-01, ...,\n",
       "         4.29233886e-01,  1.70262720e-16,  2.84131817e-01]])"
      ]
     },
     "execution_count": 10,
     "metadata": {},
     "output_type": "execute_result"
    }
   ],
   "source": [
    "sorted_eigenvectors = eigenvectors[:,sorted_indices]\n",
    "sorted_eigenvectors"
   ]
  },
  {
   "cell_type": "markdown",
   "metadata": {},
   "source": [
    "### 2.5. Select the largest K cases (**K <= D**) and create a projection matrix (i.e. w) using the cases\n",
    "* K refers to the number of principal components\n",
    "* How to create a projection matrix?\n",
    "  * If K=2, select two corresponding eigenvectors identified by the sorted eigenvalues\n",
    "* How to determine the number of principal components?\n",
    "  * Scree plot: a line plot of the eigenvalues of the eigenvalues of principal components"
   ]
  },
  {
   "cell_type": "code",
   "execution_count": 54,
   "metadata": {},
   "outputs": [],
   "source": [
    "# 5. Select the largest 'num_components' eigenvectors\n",
    "num_components = 2\n",
    "principal_components = eigenvectors[:, 0:num_components]"
   ]
  },
  {
   "cell_type": "code",
   "execution_count": 31,
   "metadata": {},
   "outputs": [
    {
     "data": {
      "text/plain": [
       "array([[ 0.00000000e+00,  0.00000000e+00],\n",
       "       [ 3.90995312e-11, -5.08166237e-19],\n",
       "       [-6.54706674e-12,  7.81011428e-20],\n",
       "       [-2.06131784e-11, -1.37970272e-20],\n",
       "       [ 1.22324462e-01,  8.83007983e-17],\n",
       "       [ 3.97575826e-11,  1.55963974e-19],\n",
       "       [-1.00507190e-07,  1.11370552e-17],\n",
       "       [ 1.22324460e-01,  8.22092347e-17],\n",
       "       [ 1.22324461e-01,  8.25968625e-17],\n",
       "       [ 2.43088721e-10,  1.52388525e-19],\n",
       "       [-1.48469072e-09,  1.14534075e-18],\n",
       "       [ 6.33712186e-10,  1.44569716e-18],\n",
       "       [ 2.46290114e-10,  1.21458127e-18],\n",
       "       [-3.42811425e-10,  1.48437985e-19],\n",
       "       [-3.46767446e-10,  2.72342240e-19],\n",
       "       [-6.48045195e-08,  1.59667710e-17],\n",
       "       [ 1.61685788e-08, -3.57885472e-18],\n",
       "       [-1.24547494e-09,  3.29662696e-19],\n",
       "       [ 1.67942580e-08, -3.43769438e-18],\n",
       "       [ 1.23942679e-08, -3.02012865e-18],\n",
       "       [ 6.42007725e-09, -1.50415458e-18],\n",
       "       [ 9.59022131e-09, -3.15811705e-18],\n",
       "       [ 5.41362636e-12, -8.94807518e-21],\n",
       "       [-1.22324461e-01, -8.23828760e-17],\n",
       "       [-2.20043367e-01, -3.00404690e-16],\n",
       "       [-3.64589953e-10, -3.95906854e-18],\n",
       "       [-5.04175184e-01, -4.70665338e-16],\n",
       "       [ 2.20043367e-01,  3.00403677e-16],\n",
       "       [-2.00330326e-08, -6.27127669e-18],\n",
       "       [ 4.39950723e-10,  5.66363938e-19],\n",
       "       [-6.25350534e-10,  3.58318500e-19],\n",
       "       [ 1.92649742e-06, -1.13949098e-17],\n",
       "       [-5.04175184e-01, -4.70665474e-16],\n",
       "       [-2.26716555e-13,  1.64529791e-21],\n",
       "       [-3.38035599e-13, -5.14157487e-21],\n",
       "       [ 5.59293388e-12,  4.38811018e-21],\n",
       "       [-2.40668877e-09, -8.68861369e-18],\n",
       "       [-5.04175184e-01, -4.70663075e-16],\n",
       "       [ 3.37956848e-11, -2.22481547e-18],\n",
       "       [-1.86278861e-10,  3.24594193e-20],\n",
       "       [-6.80702547e-08, -1.84741037e-18],\n",
       "       [ 6.73262595e-09,  7.64053165e-19],\n",
       "       [ 6.86624166e-09,  9.32939867e-20],\n",
       "       [ 1.05822728e-08, -1.88356689e-18],\n",
       "       [ 1.44459114e-08,  2.94967214e-18],\n",
       "       [ 6.52912852e-09, -5.23289628e-19],\n",
       "       [ 6.34458214e-09, -2.16222771e-19],\n",
       "       [ 2.45881961e-08,  1.66224269e-18],\n",
       "       [ 1.18650260e-08, -7.07106781e-01],\n",
       "       [ 1.18650252e-08,  7.07106781e-01],\n",
       "       [ 2.84131817e-01,  1.70262720e-16]])"
      ]
     },
     "execution_count": 31,
     "metadata": {},
     "output_type": "execute_result"
    }
   ],
   "source": [
    "principal_components"
   ]
  },
  {
   "cell_type": "markdown",
   "metadata": {},
   "source": [
    "### 2.6. Transform data into a lower-dimensional space using the projection matrix\n",
    "* For two principal components, we have:\n",
    "  * Transforming by **dot product** (normalized data, projection matrix)\n",
    "    * The dot product of the normalized data matrix and the projection matrix effectively projects the original data onto the subspace defined by the principal components."
   ]
  },
  {
   "cell_type": "code",
   "execution_count": 32,
   "metadata": {},
   "outputs": [],
   "source": [
    "# 6. Project the data onto the principal components\n",
    "transformed_data = np.dot(principal_components.transpose(), standardized_data.transpose()).transpose()"
   ]
  },
  {
   "cell_type": "code",
   "execution_count": 33,
   "metadata": {},
   "outputs": [
    {
     "data": {
      "text/plain": [
       "(174, 2)"
      ]
     },
     "execution_count": 33,
     "metadata": {},
     "output_type": "execute_result"
    }
   ],
   "source": [
    "transformed_data.shape"
   ]
  },
  {
   "cell_type": "markdown",
   "metadata": {},
   "source": [
    "## 3. How would you determine the number of principal components?\n",
    "### 3.1. Scree Plot\n",
    "* A scree plot is a line of the eigenvalues of principal components"
   ]
  },
  {
   "cell_type": "code",
   "execution_count": 75,
   "metadata": {},
   "outputs": [],
   "source": [
    "def scree_plot(explained_variance_ratio, num_component, threshold):\n",
    "    num_components = len(explained_variance_ratio)\n",
    "\n",
    "    fig = plt.figure(figsize=(20,6))\n",
    "    ax = fig.add_subplot()\n",
    "\n",
    "    cumulated = np.cumsum(explained_variance_ratio)\n",
    "    ax.bar(range(1, num_components +1), explained_variance_ratio, color = '#99ccff')\n",
    "    ax.plot(range(1, num_components+1), cumulated, color = 'black')\n",
    "    \n",
    "    max_val = 0\n",
    "    \n",
    "    for value in cumulated:\n",
    "        if (value - max_val) >= threshold:\n",
    "            max_val = value\n",
    "    \n",
    "    ax.vlines(num_component, 0, max(cumulated), color = \"blue\", linestyles=\"--\",label=\"your PC #\")\n",
    "    ax.vlines(np.where(cumulated==max_val)[0]+1, 0, max(cumulated), color = \"red\", linestyles=\"--\", label = \"Best PC #\")\n",
    "    \n",
    "    for i in range(num_components): \n",
    "        ax.annotate(r\"%s\" % ((str(explained_variance_ratio[i]*100)[:4])), (i+1, explained_variance_ratio[i]), va = \"bottom\", ha = \"center\")\n",
    "     \n",
    "    ax.set_xticks(np.arange(1,num_components+1))\n",
    "    ax.set_xlabel(\"Principal Components\")\n",
    "    ax.set_ylabel(\"Explained variance Ratio\")\n",
    "    \n",
    "    plt.legend(loc = \"upper right\")\n",
    "    plt.title('Scree plot')"
   ]
  },
  {
   "cell_type": "code",
   "execution_count": 70,
   "metadata": {},
   "outputs": [],
   "source": [
    "def pca(data, num_component=2, threshold = 0.01):\n",
    "    # Exclude categorical data (dtype = string)\n",
    "    # to_be_normed = [col for col in X.columns if X[col].dtypes != 'object']\n",
    "    # 1. Standardize the numerical data\n",
    "    standardized_data = normalize(data)\n",
    "\n",
    "    # 2. Calculate the covariance matrix\n",
    "    cov_matrix = np.cov(standardized_data, rowvar=False)\n",
    "\n",
    "    # 3. Calculate the eigenvalues and eigenvectors\n",
    "    eigenvalues, eigenvectors = np.linalg.eigh(cov_matrix)\n",
    "\n",
    "    # 4. Sort eigenvectors in descending order of eigenvalues\n",
    "    sorted_indices = np.argsort(eigenvalues)[::-1]\n",
    "    sorted_eigenvalue = eigenvalues[sorted_indices]\n",
    "    sorted_eigenvectors = eigenvectors[:,sorted_indices]\n",
    "\n",
    "    # 5. Select the largest 'num_components' eigenvectors\n",
    "    principal_components = sorted_eigenvectors[:, 0:num_component]\n",
    "\n",
    "    # 6. Project the data onto the principal components\n",
    "    transformed_data = np.dot(principal_components.transpose(), standardized_data.transpose()).transpose()\n",
    "\n",
    "    # 7. Calculate the explained variance ratio\n",
    "    explained_variance_ratio = [(i/sum(eigenvalues)) for i in sorted_eigenvalue]\n",
    "\n",
    "    scree_plot(explained_variance_ratio, num_component,threshold)\n",
    "    \n",
    "    return transformed_data"
   ]
  },
  {
   "cell_type": "code",
   "execution_count": 19,
   "metadata": {},
   "outputs": [
    {
     "data": {
      "text/plain": [
       "array([0.52813101, 0.81967163, 0.89643925, 0.95683997, 0.98381632,\n",
       "       0.99374932, 0.99736213, 0.99840723, 0.99932793, 0.99972247,\n",
       "       0.99987175, 0.99992224, 0.99995353, 0.99996649, 0.99997708,\n",
       "       0.99998505, 0.99999003, 0.99999186, 0.99999351, 0.99999491,\n",
       "       0.99999596, 0.99999692, 0.99999775, 0.99999845, 0.99999893,\n",
       "       0.99999919, 0.99999938, 0.99999954, 0.99999966, 0.99999976,\n",
       "       0.99999984, 0.99999988, 0.99999992, 0.99999994, 0.99999996,\n",
       "       0.99999997, 0.99999998, 0.99999999, 1.        , 1.        ,\n",
       "       1.        , 1.        , 1.        , 1.        , 1.        ,\n",
       "       1.        , 1.        , 1.        , 1.        , 1.        ,\n",
       "       1.        ])"
      ]
     },
     "execution_count": 19,
     "metadata": {},
     "output_type": "execute_result"
    }
   ],
   "source": [
    "explained_variance_ratio = [(i/sum(eigenvalues)) for i in sorted_eigenvalue]\n",
    "cumulated = np.cumsum(explained_variance_ratio)\n",
    "cumulated"
   ]
  },
  {
   "cell_type": "markdown",
   "metadata": {},
   "source": [
    "# 3. Classification w/w.o PCA"
   ]
  },
  {
   "cell_type": "markdown",
   "metadata": {},
   "source": [
    "## 3.0. Data Split"
   ]
  },
  {
   "cell_type": "code",
   "execution_count": 46,
   "metadata": {},
   "outputs": [],
   "source": [
    "X = data.iloc[:,2:].to_numpy()\n",
    "y = data.iloc[:, 1].to_numpy()"
   ]
  },
  {
   "cell_type": "code",
   "execution_count": 47,
   "metadata": {},
   "outputs": [
    {
     "name": "stdout",
     "output_type": "stream",
     "text": [
      "121 53\n"
     ]
    }
   ],
   "source": [
    "# 전체 데이터 세트를 학습 세트(training set)와 검증 세트(test set)로 나눔\n",
    "X_train, X_test, y_train, y_test = train_test_split(X, y, test_size=0.3, random_state=42)\n",
    "print(len(X_train), len(X_test))"
   ]
  },
  {
   "cell_type": "markdown",
   "metadata": {},
   "source": [
    "## 3.1. Data w/w.o. PCA\n",
    "### Without PCA (Just standardization)"
   ]
  },
  {
   "cell_type": "code",
   "execution_count": 113,
   "metadata": {},
   "outputs": [],
   "source": [
    "# Z-score 표준화: 평균을 0, 표준편차 1로 변환\n",
    "scaler = StandardScaler() # Scaler 객체 생성\n",
    "scaler.fit(X_train) # 스케일링(표준화)를 위한 평균과 표준 편차 계산\n",
    "X_train_stand = scaler.transform(X_train) # 스케일링(표준화 수행)\n",
    "X_test_stand = scaler.transform(X_test)"
   ]
  },
  {
   "cell_type": "markdown",
   "metadata": {},
   "source": [
    "### With PCA (PC = 2)"
   ]
  },
  {
   "cell_type": "code",
   "execution_count": 119,
   "metadata": {},
   "outputs": [
    {
     "data": {
      "image/png": "[encoded data removed]",
      "text/plain": [
       "<Figure size 2000x600 with 1 Axes>"
      ]
     },
     "metadata": {},
     "output_type": "display_data"
    }
   ],
   "source": [
    "X_train_pca_2 = pca(X_train, 2,0.01)"
   ]
  },
  {
   "cell_type": "code",
   "execution_count": 120,
   "metadata": {},
   "outputs": [
    {
     "data": {
      "image/png": "[encoded data removed]",
      "text/plain": [
       "<Figure size 2000x600 with 1 Axes>"
      ]
     },
     "metadata": {},
     "output_type": "display_data"
    }
   ],
   "source": [
    "X_test_pca_2 = pca(X_test, 2, 0.01)"
   ]
  },
  {
   "cell_type": "markdown",
   "metadata": {},
   "source": [
    "### With PCA (PC = 6)"
   ]
  },
  {
   "cell_type": "code",
   "execution_count": 92,
   "metadata": {},
   "outputs": [
    {
     "data": {
      "image/png": "[encoded data removed]",
      "text/plain": [
       "<Figure size 2000x600 with 1 Axes>"
      ]
     },
     "metadata": {},
     "output_type": "display_data"
    }
   ],
   "source": [
    "X_train_pca_6 = pca(X_train, 6,0.01)"
   ]
  },
  {
   "cell_type": "code",
   "execution_count": 94,
   "metadata": {},
   "outputs": [
    {
     "data": {
      "image/png": "[encoded data removed]",
      "text/plain": [
       "<Figure size 2000x600 with 1 Axes>"
      ]
     },
     "metadata": {},
     "output_type": "display_data"
    }
   ],
   "source": [
    "X_test_pca_6 = pca(X_test, 6,0.01)"
   ]
  },
  {
   "cell_type": "markdown",
   "metadata": {},
   "source": [
    "# 3.1. K-NN Classifier"
   ]
  },
  {
   "cell_type": "markdown",
   "metadata": {},
   "source": [
    "\n",
    "## 3.1.1. Classification without PCA"
   ]
  },
  {
   "cell_type": "markdown",
   "metadata": {},
   "source": [
    "* pca를 쓰지 않기 때문에 standarization을 따로 시켜줘야 한다."
   ]
  },
  {
   "cell_type": "code",
   "execution_count": 54,
   "metadata": {},
   "outputs": [
    {
     "data": {
      "text/html": [
       "<style>#sk-container-id-3 {color: black;}#sk-container-id-3 pre{padding: 0;}#sk-container-id-3 div.sk-toggleable {background-color: white;}#sk-container-id-3 label.sk-toggleable__label {cursor: pointer;display: block;width: 100%;margin-bottom: 0;padding: 0.3em;box-sizing: border-box;text-align: center;}#sk-container-id-3 label.sk-toggleable__label-arrow:before {content: \"▸\";float: left;margin-right: 0.25em;color: #696969;}#sk-container-id-3 label.sk-toggleable__label-arrow:hover:before {color: black;}#sk-container-id-3 div.sk-estimator:hover label.sk-toggleable__label-arrow:before {color: black;}#sk-container-id-3 div.sk-toggleable__content {max-height: 0;max-width: 0;overflow: hidden;text-align: left;background-color: #f0f8ff;}#sk-container-id-3 div.sk-toggleable__content pre {margin: 0.2em;color: black;border-radius: 0.25em;background-color: #f0f8ff;}#sk-container-id-3 input.sk-toggleable__control:checked~div.sk-toggleable__content {max-height: 200px;max-width: 100%;overflow: auto;}#sk-container-id-3 input.sk-toggleable__control:checked~label.sk-toggleable__label-arrow:before {content: \"▾\";}#sk-container-id-3 div.sk-estimator input.sk-toggleable__control:checked~label.sk-toggleable__label {background-color: #d4ebff;}#sk-container-id-3 div.sk-label input.sk-toggleable__control:checked~label.sk-toggleable__label {background-color: #d4ebff;}#sk-container-id-3 input.sk-hidden--visually {border: 0;clip: rect(1px 1px 1px 1px);clip: rect(1px, 1px, 1px, 1px);height: 1px;margin: -1px;overflow: hidden;padding: 0;position: absolute;width: 1px;}#sk-container-id-3 div.sk-estimator {font-family: monospace;background-color: #f0f8ff;border: 1px dotted black;border-radius: 0.25em;box-sizing: border-box;margin-bottom: 0.5em;}#sk-container-id-3 div.sk-estimator:hover {background-color: #d4ebff;}#sk-container-id-3 div.sk-parallel-item::after {content: \"\";width: 100%;border-bottom: 1px solid gray;flex-grow: 1;}#sk-container-id-3 div.sk-label:hover label.sk-toggleable__label {background-color: #d4ebff;}#sk-container-id-3 div.sk-serial::before {content: \"\";position: absolute;border-left: 1px solid gray;box-sizing: border-box;top: 0;bottom: 0;left: 50%;z-index: 0;}#sk-container-id-3 div.sk-serial {display: flex;flex-direction: column;align-items: center;background-color: white;padding-right: 0.2em;padding-left: 0.2em;position: relative;}#sk-container-id-3 div.sk-item {position: relative;z-index: 1;}#sk-container-id-3 div.sk-parallel {display: flex;align-items: stretch;justify-content: center;background-color: white;position: relative;}#sk-container-id-3 div.sk-item::before, #sk-container-id-3 div.sk-parallel-item::before {content: \"\";position: absolute;border-left: 1px solid gray;box-sizing: border-box;top: 0;bottom: 0;left: 50%;z-index: -1;}#sk-container-id-3 div.sk-parallel-item {display: flex;flex-direction: column;z-index: 1;position: relative;background-color: white;}#sk-container-id-3 div.sk-parallel-item:first-child::after {align-self: flex-end;width: 50%;}#sk-container-id-3 div.sk-parallel-item:last-child::after {align-self: flex-start;width: 50%;}#sk-container-id-3 div.sk-parallel-item:only-child::after {width: 0;}#sk-container-id-3 div.sk-dashed-wrapped {border: 1px dashed gray;margin: 0 0.4em 0.5em 0.4em;box-sizing: border-box;padding-bottom: 0.4em;background-color: white;}#sk-container-id-3 div.sk-label label {font-family: monospace;font-weight: bold;display: inline-block;line-height: 1.2em;}#sk-container-id-3 div.sk-label-container {text-align: center;}#sk-container-id-3 div.sk-container {/* jupyter's `normalize.less` sets `[hidden] { display: none; }` but bootstrap.min.css set `[hidden] { display: none !important; }` so we also need the `!important` here to be able to override the default hidden behavior on the sphinx rendered scikit-learn.org. See: https://github.com/scikit-learn/scikit-learn/issues/21755 */display: inline-block !important;position: relative;}#sk-container-id-3 div.sk-text-repr-fallback {display: none;}</style><div id=\"sk-container-id-3\" class=\"sk-top-container\"><div class=\"sk-text-repr-fallback\"><pre>KNeighborsClassifier()</pre><b>In a Jupyter environment, please rerun this cell to show the HTML representation or trust the notebook. <br />On GitHub, the HTML representation is unable to render, please try loading this page with nbviewer.org.</b></div><div class=\"sk-container\" hidden><div class=\"sk-item\"><div class=\"sk-estimator sk-toggleable\"><input class=\"sk-toggleable__control sk-hidden--visually\" id=\"sk-estimator-id-3\" type=\"checkbox\" checked><label for=\"sk-estimator-id-3\" class=\"sk-toggleable__label sk-toggleable__label-arrow\">KNeighborsClassifier</label><div class=\"sk-toggleable__content\"><pre>KNeighborsClassifier()</pre></div></div></div></div></div>"
      ],
      "text/plain": [
       "KNeighborsClassifier()"
      ]
     },
     "execution_count": 54,
     "metadata": {},
     "output_type": "execute_result"
    }
   ],
   "source": [
    "# k-NN 분류기를 생성\n",
    "classifier = KNeighborsClassifier(n_neighbors=5)\n",
    "# 분류기 학습\n",
    "classifier.fit(X_train_stand, y_train)"
   ]
  },
  {
   "cell_type": "code",
   "execution_count": 55,
   "metadata": {},
   "outputs": [],
   "source": [
    "# 예측\n",
    "y_pred= classifier.predict(X_test_stand)"
   ]
  },
  {
   "cell_type": "markdown",
   "metadata": {},
   "source": [
    "### Result of classification without PCA"
   ]
  },
  {
   "cell_type": "code",
   "execution_count": 56,
   "metadata": {},
   "outputs": [
    {
     "name": "stdout",
     "output_type": "stream",
     "text": [
      "[[29  0  8]\n",
      " [ 1  0  0]\n",
      " [10  0  5]]\n"
     ]
    }
   ],
   "source": [
    "no_pca_conf_matrix= confusion_matrix(y_test, y_pred)\n",
    "print(no_pca_conf_matrix)"
   ]
  },
  {
   "cell_type": "code",
   "execution_count": 57,
   "metadata": {},
   "outputs": [
    {
     "name": "stdout",
     "output_type": "stream",
     "text": [
      "              precision    recall  f1-score   support\n",
      "\n",
      "          CN       0.72      0.78      0.75        37\n",
      "         Dem       0.00      0.00      0.00         1\n",
      "         MCI       0.38      0.33      0.36        15\n",
      "\n",
      "    accuracy                           0.64        53\n",
      "   macro avg       0.37      0.37      0.37        53\n",
      "weighted avg       0.61      0.64      0.63        53\n",
      "\n"
     ]
    },
    {
     "name": "stderr",
     "output_type": "stream",
     "text": [
      "/Users/yoobin/anaconda3/lib/python3.11/site-packages/sklearn/metrics/_classification.py:1471: UndefinedMetricWarning: Precision and F-score are ill-defined and being set to 0.0 in labels with no predicted samples. Use `zero_division` parameter to control this behavior.\n",
      "  _warn_prf(average, modifier, msg_start, len(result))\n",
      "/Users/yoobin/anaconda3/lib/python3.11/site-packages/sklearn/metrics/_classification.py:1471: UndefinedMetricWarning: Precision and F-score are ill-defined and being set to 0.0 in labels with no predicted samples. Use `zero_division` parameter to control this behavior.\n",
      "  _warn_prf(average, modifier, msg_start, len(result))\n",
      "/Users/yoobin/anaconda3/lib/python3.11/site-packages/sklearn/metrics/_classification.py:1471: UndefinedMetricWarning: Precision and F-score are ill-defined and being set to 0.0 in labels with no predicted samples. Use `zero_division` parameter to control this behavior.\n",
      "  _warn_prf(average, modifier, msg_start, len(result))\n"
     ]
    }
   ],
   "source": [
    "no_pca_performance = classification_report(y_test, y_pred)\n",
    "print(no_pca_performance)"
   ]
  },
  {
   "cell_type": "markdown",
   "metadata": {},
   "source": [
    "## 3.1.2. Classification with PCA"
   ]
  },
  {
   "cell_type": "markdown",
   "metadata": {},
   "source": [
    "### When PC = 2"
   ]
  },
  {
   "cell_type": "code",
   "execution_count": 79,
   "metadata": {},
   "outputs": [
    {
     "data": {
      "text/html": [
       "<style>#sk-container-id-5 {color: black;}#sk-container-id-5 pre{padding: 0;}#sk-container-id-5 div.sk-toggleable {background-color: white;}#sk-container-id-5 label.sk-toggleable__label {cursor: pointer;display: block;width: 100%;margin-bottom: 0;padding: 0.3em;box-sizing: border-box;text-align: center;}#sk-container-id-5 label.sk-toggleable__label-arrow:before {content: \"▸\";float: left;margin-right: 0.25em;color: #696969;}#sk-container-id-5 label.sk-toggleable__label-arrow:hover:before {color: black;}#sk-container-id-5 div.sk-estimator:hover label.sk-toggleable__label-arrow:before {color: black;}#sk-container-id-5 div.sk-toggleable__content {max-height: 0;max-width: 0;overflow: hidden;text-align: left;background-color: #f0f8ff;}#sk-container-id-5 div.sk-toggleable__content pre {margin: 0.2em;color: black;border-radius: 0.25em;background-color: #f0f8ff;}#sk-container-id-5 input.sk-toggleable__control:checked~div.sk-toggleable__content {max-height: 200px;max-width: 100%;overflow: auto;}#sk-container-id-5 input.sk-toggleable__control:checked~label.sk-toggleable__label-arrow:before {content: \"▾\";}#sk-container-id-5 div.sk-estimator input.sk-toggleable__control:checked~label.sk-toggleable__label {background-color: #d4ebff;}#sk-container-id-5 div.sk-label input.sk-toggleable__control:checked~label.sk-toggleable__label {background-color: #d4ebff;}#sk-container-id-5 input.sk-hidden--visually {border: 0;clip: rect(1px 1px 1px 1px);clip: rect(1px, 1px, 1px, 1px);height: 1px;margin: -1px;overflow: hidden;padding: 0;position: absolute;width: 1px;}#sk-container-id-5 div.sk-estimator {font-family: monospace;background-color: #f0f8ff;border: 1px dotted black;border-radius: 0.25em;box-sizing: border-box;margin-bottom: 0.5em;}#sk-container-id-5 div.sk-estimator:hover {background-color: #d4ebff;}#sk-container-id-5 div.sk-parallel-item::after {content: \"\";width: 100%;border-bottom: 1px solid gray;flex-grow: 1;}#sk-container-id-5 div.sk-label:hover label.sk-toggleable__label {background-color: #d4ebff;}#sk-container-id-5 div.sk-serial::before {content: \"\";position: absolute;border-left: 1px solid gray;box-sizing: border-box;top: 0;bottom: 0;left: 50%;z-index: 0;}#sk-container-id-5 div.sk-serial {display: flex;flex-direction: column;align-items: center;background-color: white;padding-right: 0.2em;padding-left: 0.2em;position: relative;}#sk-container-id-5 div.sk-item {position: relative;z-index: 1;}#sk-container-id-5 div.sk-parallel {display: flex;align-items: stretch;justify-content: center;background-color: white;position: relative;}#sk-container-id-5 div.sk-item::before, #sk-container-id-5 div.sk-parallel-item::before {content: \"\";position: absolute;border-left: 1px solid gray;box-sizing: border-box;top: 0;bottom: 0;left: 50%;z-index: -1;}#sk-container-id-5 div.sk-parallel-item {display: flex;flex-direction: column;z-index: 1;position: relative;background-color: white;}#sk-container-id-5 div.sk-parallel-item:first-child::after {align-self: flex-end;width: 50%;}#sk-container-id-5 div.sk-parallel-item:last-child::after {align-self: flex-start;width: 50%;}#sk-container-id-5 div.sk-parallel-item:only-child::after {width: 0;}#sk-container-id-5 div.sk-dashed-wrapped {border: 1px dashed gray;margin: 0 0.4em 0.5em 0.4em;box-sizing: border-box;padding-bottom: 0.4em;background-color: white;}#sk-container-id-5 div.sk-label label {font-family: monospace;font-weight: bold;display: inline-block;line-height: 1.2em;}#sk-container-id-5 div.sk-label-container {text-align: center;}#sk-container-id-5 div.sk-container {/* jupyter's `normalize.less` sets `[hidden] { display: none; }` but bootstrap.min.css set `[hidden] { display: none !important; }` so we also need the `!important` here to be able to override the default hidden behavior on the sphinx rendered scikit-learn.org. See: https://github.com/scikit-learn/scikit-learn/issues/21755 */display: inline-block !important;position: relative;}#sk-container-id-5 div.sk-text-repr-fallback {display: none;}</style><div id=\"sk-container-id-5\" class=\"sk-top-container\"><div class=\"sk-text-repr-fallback\"><pre>KNeighborsClassifier()</pre><b>In a Jupyter environment, please rerun this cell to show the HTML representation or trust the notebook. <br />On GitHub, the HTML representation is unable to render, please try loading this page with nbviewer.org.</b></div><div class=\"sk-container\" hidden><div class=\"sk-item\"><div class=\"sk-estimator sk-toggleable\"><input class=\"sk-toggleable__control sk-hidden--visually\" id=\"sk-estimator-id-5\" type=\"checkbox\" checked><label for=\"sk-estimator-id-5\" class=\"sk-toggleable__label sk-toggleable__label-arrow\">KNeighborsClassifier</label><div class=\"sk-toggleable__content\"><pre>KNeighborsClassifier()</pre></div></div></div></div></div>"
      ],
      "text/plain": [
       "KNeighborsClassifier()"
      ]
     },
     "execution_count": 79,
     "metadata": {},
     "output_type": "execute_result"
    }
   ],
   "source": [
    "# k-NN 분류기를 생성\n",
    "classifier = KNeighborsClassifier(n_neighbors=5)\n",
    "# 분류기 학습\n",
    "classifier.fit(X_train_pca_2, y_train)"
   ]
  },
  {
   "cell_type": "code",
   "execution_count": 80,
   "metadata": {},
   "outputs": [],
   "source": [
    "# 예측\n",
    "y_pred= classifier.predict(X_test_pca_2)"
   ]
  },
  {
   "cell_type": "markdown",
   "metadata": {},
   "source": [
    "### Result of classification with PCA (PC = 2)"
   ]
  },
  {
   "cell_type": "code",
   "execution_count": 81,
   "metadata": {},
   "outputs": [
    {
     "name": "stdout",
     "output_type": "stream",
     "text": [
      "[[35  0  2]\n",
      " [ 0  0  1]\n",
      " [15  0  0]]\n"
     ]
    }
   ],
   "source": [
    "pca2_conf_matrix= confusion_matrix(y_test, y_pred)\n",
    "print(pca2_conf_matrix)"
   ]
  },
  {
   "cell_type": "code",
   "execution_count": 83,
   "metadata": {},
   "outputs": [
    {
     "name": "stdout",
     "output_type": "stream",
     "text": [
      "              precision    recall  f1-score   support\n",
      "\n",
      "          CN       0.70      0.95      0.80        37\n",
      "         Dem       0.00      0.00      0.00         1\n",
      "         MCI       0.00      0.00      0.00        15\n",
      "\n",
      "    accuracy                           0.66        53\n",
      "   macro avg       0.23      0.32      0.27        53\n",
      "weighted avg       0.49      0.66      0.56        53\n",
      "\n"
     ]
    },
    {
     "name": "stderr",
     "output_type": "stream",
     "text": [
      "/Users/yoobin/anaconda3/lib/python3.11/site-packages/sklearn/metrics/_classification.py:1471: UndefinedMetricWarning: Precision and F-score are ill-defined and being set to 0.0 in labels with no predicted samples. Use `zero_division` parameter to control this behavior.\n",
      "  _warn_prf(average, modifier, msg_start, len(result))\n",
      "/Users/yoobin/anaconda3/lib/python3.11/site-packages/sklearn/metrics/_classification.py:1471: UndefinedMetricWarning: Precision and F-score are ill-defined and being set to 0.0 in labels with no predicted samples. Use `zero_division` parameter to control this behavior.\n",
      "  _warn_prf(average, modifier, msg_start, len(result))\n",
      "/Users/yoobin/anaconda3/lib/python3.11/site-packages/sklearn/metrics/_classification.py:1471: UndefinedMetricWarning: Precision and F-score are ill-defined and being set to 0.0 in labels with no predicted samples. Use `zero_division` parameter to control this behavior.\n",
      "  _warn_prf(average, modifier, msg_start, len(result))\n"
     ]
    }
   ],
   "source": [
    "pca2_performance = classification_report(y_test, y_pred)\n",
    "print(pca2_performance)"
   ]
  },
  {
   "cell_type": "markdown",
   "metadata": {},
   "source": [
    "### When PC = 6 (Best # of PC)"
   ]
  },
  {
   "cell_type": "code",
   "execution_count": 95,
   "metadata": {},
   "outputs": [
    {
     "data": {
      "text/html": [
       "<style>#sk-container-id-7 {color: black;}#sk-container-id-7 pre{padding: 0;}#sk-container-id-7 div.sk-toggleable {background-color: white;}#sk-container-id-7 label.sk-toggleable__label {cursor: pointer;display: block;width: 100%;margin-bottom: 0;padding: 0.3em;box-sizing: border-box;text-align: center;}#sk-container-id-7 label.sk-toggleable__label-arrow:before {content: \"▸\";float: left;margin-right: 0.25em;color: #696969;}#sk-container-id-7 label.sk-toggleable__label-arrow:hover:before {color: black;}#sk-container-id-7 div.sk-estimator:hover label.sk-toggleable__label-arrow:before {color: black;}#sk-container-id-7 div.sk-toggleable__content {max-height: 0;max-width: 0;overflow: hidden;text-align: left;background-color: #f0f8ff;}#sk-container-id-7 div.sk-toggleable__content pre {margin: 0.2em;color: black;border-radius: 0.25em;background-color: #f0f8ff;}#sk-container-id-7 input.sk-toggleable__control:checked~div.sk-toggleable__content {max-height: 200px;max-width: 100%;overflow: auto;}#sk-container-id-7 input.sk-toggleable__control:checked~label.sk-toggleable__label-arrow:before {content: \"▾\";}#sk-container-id-7 div.sk-estimator input.sk-toggleable__control:checked~label.sk-toggleable__label {background-color: #d4ebff;}#sk-container-id-7 div.sk-label input.sk-toggleable__control:checked~label.sk-toggleable__label {background-color: #d4ebff;}#sk-container-id-7 input.sk-hidden--visually {border: 0;clip: rect(1px 1px 1px 1px);clip: rect(1px, 1px, 1px, 1px);height: 1px;margin: -1px;overflow: hidden;padding: 0;position: absolute;width: 1px;}#sk-container-id-7 div.sk-estimator {font-family: monospace;background-color: #f0f8ff;border: 1px dotted black;border-radius: 0.25em;box-sizing: border-box;margin-bottom: 0.5em;}#sk-container-id-7 div.sk-estimator:hover {background-color: #d4ebff;}#sk-container-id-7 div.sk-parallel-item::after {content: \"\";width: 100%;border-bottom: 1px solid gray;flex-grow: 1;}#sk-container-id-7 div.sk-label:hover label.sk-toggleable__label {background-color: #d4ebff;}#sk-container-id-7 div.sk-serial::before {content: \"\";position: absolute;border-left: 1px solid gray;box-sizing: border-box;top: 0;bottom: 0;left: 50%;z-index: 0;}#sk-container-id-7 div.sk-serial {display: flex;flex-direction: column;align-items: center;background-color: white;padding-right: 0.2em;padding-left: 0.2em;position: relative;}#sk-container-id-7 div.sk-item {position: relative;z-index: 1;}#sk-container-id-7 div.sk-parallel {display: flex;align-items: stretch;justify-content: center;background-color: white;position: relative;}#sk-container-id-7 div.sk-item::before, #sk-container-id-7 div.sk-parallel-item::before {content: \"\";position: absolute;border-left: 1px solid gray;box-sizing: border-box;top: 0;bottom: 0;left: 50%;z-index: -1;}#sk-container-id-7 div.sk-parallel-item {display: flex;flex-direction: column;z-index: 1;position: relative;background-color: white;}#sk-container-id-7 div.sk-parallel-item:first-child::after {align-self: flex-end;width: 50%;}#sk-container-id-7 div.sk-parallel-item:last-child::after {align-self: flex-start;width: 50%;}#sk-container-id-7 div.sk-parallel-item:only-child::after {width: 0;}#sk-container-id-7 div.sk-dashed-wrapped {border: 1px dashed gray;margin: 0 0.4em 0.5em 0.4em;box-sizing: border-box;padding-bottom: 0.4em;background-color: white;}#sk-container-id-7 div.sk-label label {font-family: monospace;font-weight: bold;display: inline-block;line-height: 1.2em;}#sk-container-id-7 div.sk-label-container {text-align: center;}#sk-container-id-7 div.sk-container {/* jupyter's `normalize.less` sets `[hidden] { display: none; }` but bootstrap.min.css set `[hidden] { display: none !important; }` so we also need the `!important` here to be able to override the default hidden behavior on the sphinx rendered scikit-learn.org. See: https://github.com/scikit-learn/scikit-learn/issues/21755 */display: inline-block !important;position: relative;}#sk-container-id-7 div.sk-text-repr-fallback {display: none;}</style><div id=\"sk-container-id-7\" class=\"sk-top-container\"><div class=\"sk-text-repr-fallback\"><pre>KNeighborsClassifier()</pre><b>In a Jupyter environment, please rerun this cell to show the HTML representation or trust the notebook. <br />On GitHub, the HTML representation is unable to render, please try loading this page with nbviewer.org.</b></div><div class=\"sk-container\" hidden><div class=\"sk-item\"><div class=\"sk-estimator sk-toggleable\"><input class=\"sk-toggleable__control sk-hidden--visually\" id=\"sk-estimator-id-7\" type=\"checkbox\" checked><label for=\"sk-estimator-id-7\" class=\"sk-toggleable__label sk-toggleable__label-arrow\">KNeighborsClassifier</label><div class=\"sk-toggleable__content\"><pre>KNeighborsClassifier()</pre></div></div></div></div></div>"
      ],
      "text/plain": [
       "KNeighborsClassifier()"
      ]
     },
     "execution_count": 95,
     "metadata": {},
     "output_type": "execute_result"
    }
   ],
   "source": [
    "# k-NN 분류기를 생성\n",
    "classifier = KNeighborsClassifier(n_neighbors=5)\n",
    "# 분류기 학습\n",
    "classifier.fit(X_train_pca_6, y_train)"
   ]
  },
  {
   "cell_type": "code",
   "execution_count": 96,
   "metadata": {},
   "outputs": [],
   "source": [
    "# 예측\n",
    "y_pred= classifier.predict(X_test_pca_6)"
   ]
  },
  {
   "cell_type": "markdown",
   "metadata": {},
   "source": [
    "### Result of classification with PCA (PC = 6)"
   ]
  },
  {
   "cell_type": "code",
   "execution_count": 97,
   "metadata": {},
   "outputs": [
    {
     "name": "stdout",
     "output_type": "stream",
     "text": [
      "[[28  1  8]\n",
      " [ 0  0  1]\n",
      " [10  1  4]]\n"
     ]
    }
   ],
   "source": [
    "pca6_conf_matrix= confusion_matrix(y_test, y_pred)\n",
    "print(pca6_conf_matrix)"
   ]
  },
  {
   "cell_type": "code",
   "execution_count": 98,
   "metadata": {},
   "outputs": [
    {
     "name": "stdout",
     "output_type": "stream",
     "text": [
      "              precision    recall  f1-score   support\n",
      "\n",
      "          CN       0.74      0.76      0.75        37\n",
      "         Dem       0.00      0.00      0.00         1\n",
      "         MCI       0.31      0.27      0.29        15\n",
      "\n",
      "    accuracy                           0.60        53\n",
      "   macro avg       0.35      0.34      0.34        53\n",
      "weighted avg       0.60      0.60      0.60        53\n",
      "\n"
     ]
    }
   ],
   "source": [
    "pca6_performance = classification_report(y_test, y_pred)\n",
    "print(pca6_performance)"
   ]
  },
  {
   "cell_type": "markdown",
   "metadata": {},
   "source": [
    "* PCA를 하면 결과가 좋아지는가 했으나, PC가 최적의 숫자일 때 다시 성능 낮아짐"
   ]
  },
  {
   "cell_type": "markdown",
   "metadata": {},
   "source": [
    "# 3.2. SVM Classifier"
   ]
  },
  {
   "cell_type": "markdown",
   "metadata": {},
   "source": [
    "## 3.2.1. Classification without PCA"
   ]
  },
  {
   "cell_type": "code",
   "execution_count": 108,
   "metadata": {},
   "outputs": [
    {
     "data": {
      "text/html": [
       "<style>#sk-container-id-9 {color: black;}#sk-container-id-9 pre{padding: 0;}#sk-container-id-9 div.sk-toggleable {background-color: white;}#sk-container-id-9 label.sk-toggleable__label {cursor: pointer;display: block;width: 100%;margin-bottom: 0;padding: 0.3em;box-sizing: border-box;text-align: center;}#sk-container-id-9 label.sk-toggleable__label-arrow:before {content: \"▸\";float: left;margin-right: 0.25em;color: #696969;}#sk-container-id-9 label.sk-toggleable__label-arrow:hover:before {color: black;}#sk-container-id-9 div.sk-estimator:hover label.sk-toggleable__label-arrow:before {color: black;}#sk-container-id-9 div.sk-toggleable__content {max-height: 0;max-width: 0;overflow: hidden;text-align: left;background-color: #f0f8ff;}#sk-container-id-9 div.sk-toggleable__content pre {margin: 0.2em;color: black;border-radius: 0.25em;background-color: #f0f8ff;}#sk-container-id-9 input.sk-toggleable__control:checked~div.sk-toggleable__content {max-height: 200px;max-width: 100%;overflow: auto;}#sk-container-id-9 input.sk-toggleable__control:checked~label.sk-toggleable__label-arrow:before {content: \"▾\";}#sk-container-id-9 div.sk-estimator input.sk-toggleable__control:checked~label.sk-toggleable__label {background-color: #d4ebff;}#sk-container-id-9 div.sk-label input.sk-toggleable__control:checked~label.sk-toggleable__label {background-color: #d4ebff;}#sk-container-id-9 input.sk-hidden--visually {border: 0;clip: rect(1px 1px 1px 1px);clip: rect(1px, 1px, 1px, 1px);height: 1px;margin: -1px;overflow: hidden;padding: 0;position: absolute;width: 1px;}#sk-container-id-9 div.sk-estimator {font-family: monospace;background-color: #f0f8ff;border: 1px dotted black;border-radius: 0.25em;box-sizing: border-box;margin-bottom: 0.5em;}#sk-container-id-9 div.sk-estimator:hover {background-color: #d4ebff;}#sk-container-id-9 div.sk-parallel-item::after {content: \"\";width: 100%;border-bottom: 1px solid gray;flex-grow: 1;}#sk-container-id-9 div.sk-label:hover label.sk-toggleable__label {background-color: #d4ebff;}#sk-container-id-9 div.sk-serial::before {content: \"\";position: absolute;border-left: 1px solid gray;box-sizing: border-box;top: 0;bottom: 0;left: 50%;z-index: 0;}#sk-container-id-9 div.sk-serial {display: flex;flex-direction: column;align-items: center;background-color: white;padding-right: 0.2em;padding-left: 0.2em;position: relative;}#sk-container-id-9 div.sk-item {position: relative;z-index: 1;}#sk-container-id-9 div.sk-parallel {display: flex;align-items: stretch;justify-content: center;background-color: white;position: relative;}#sk-container-id-9 div.sk-item::before, #sk-container-id-9 div.sk-parallel-item::before {content: \"\";position: absolute;border-left: 1px solid gray;box-sizing: border-box;top: 0;bottom: 0;left: 50%;z-index: -1;}#sk-container-id-9 div.sk-parallel-item {display: flex;flex-direction: column;z-index: 1;position: relative;background-color: white;}#sk-container-id-9 div.sk-parallel-item:first-child::after {align-self: flex-end;width: 50%;}#sk-container-id-9 div.sk-parallel-item:last-child::after {align-self: flex-start;width: 50%;}#sk-container-id-9 div.sk-parallel-item:only-child::after {width: 0;}#sk-container-id-9 div.sk-dashed-wrapped {border: 1px dashed gray;margin: 0 0.4em 0.5em 0.4em;box-sizing: border-box;padding-bottom: 0.4em;background-color: white;}#sk-container-id-9 div.sk-label label {font-family: monospace;font-weight: bold;display: inline-block;line-height: 1.2em;}#sk-container-id-9 div.sk-label-container {text-align: center;}#sk-container-id-9 div.sk-container {/* jupyter's `normalize.less` sets `[hidden] { display: none; }` but bootstrap.min.css set `[hidden] { display: none !important; }` so we also need the `!important` here to be able to override the default hidden behavior on the sphinx rendered scikit-learn.org. See: https://github.com/scikit-learn/scikit-learn/issues/21755 */display: inline-block !important;position: relative;}#sk-container-id-9 div.sk-text-repr-fallback {display: none;}</style><div id=\"sk-container-id-9\" class=\"sk-top-container\"><div class=\"sk-text-repr-fallback\"><pre>SVC()</pre><b>In a Jupyter environment, please rerun this cell to show the HTML representation or trust the notebook. <br />On GitHub, the HTML representation is unable to render, please try loading this page with nbviewer.org.</b></div><div class=\"sk-container\" hidden><div class=\"sk-item\"><div class=\"sk-estimator sk-toggleable\"><input class=\"sk-toggleable__control sk-hidden--visually\" id=\"sk-estimator-id-9\" type=\"checkbox\" checked><label for=\"sk-estimator-id-9\" class=\"sk-toggleable__label sk-toggleable__label-arrow\">SVC</label><div class=\"sk-toggleable__content\"><pre>SVC()</pre></div></div></div></div></div>"
      ],
      "text/plain": [
       "SVC()"
      ]
     },
     "execution_count": 108,
     "metadata": {},
     "output_type": "execute_result"
    }
   ],
   "source": [
    "# SVM 분류기 생성\n",
    "svm_clf = svm.SVC()\n",
    "# SVM 분류기 학습\n",
    "svm_clf.fit(X_train_stand, y_train)"
   ]
  },
  {
   "cell_type": "code",
   "execution_count": 110,
   "metadata": {},
   "outputs": [],
   "source": [
    "y_pred= svm_clf.predict(X_test_stand)"
   ]
  },
  {
   "cell_type": "markdown",
   "metadata": {},
   "source": [
    "### Result"
   ]
  },
  {
   "cell_type": "code",
   "execution_count": 102,
   "metadata": {},
   "outputs": [
    {
     "name": "stdout",
     "output_type": "stream",
     "text": [
      "[[36  0  1]\n",
      " [ 1  0  0]\n",
      " [15  0  0]]\n"
     ]
    }
   ],
   "source": [
    "svm_no_pca_conf= confusion_matrix(y_test, y_pred)\n",
    "print(svm_no_pca_conf)"
   ]
  },
  {
   "cell_type": "code",
   "execution_count": 103,
   "metadata": {},
   "outputs": [
    {
     "name": "stdout",
     "output_type": "stream",
     "text": [
      "              precision    recall  f1-score   support\n",
      "\n",
      "          CN       0.69      0.97      0.81        37\n",
      "         Dem       0.00      0.00      0.00         1\n",
      "         MCI       0.00      0.00      0.00        15\n",
      "\n",
      "    accuracy                           0.68        53\n",
      "   macro avg       0.23      0.32      0.27        53\n",
      "weighted avg       0.48      0.68      0.56        53\n",
      "\n"
     ]
    },
    {
     "name": "stderr",
     "output_type": "stream",
     "text": [
      "/Users/yoobin/anaconda3/lib/python3.11/site-packages/sklearn/metrics/_classification.py:1471: UndefinedMetricWarning: Precision and F-score are ill-defined and being set to 0.0 in labels with no predicted samples. Use `zero_division` parameter to control this behavior.\n",
      "  _warn_prf(average, modifier, msg_start, len(result))\n",
      "/Users/yoobin/anaconda3/lib/python3.11/site-packages/sklearn/metrics/_classification.py:1471: UndefinedMetricWarning: Precision and F-score are ill-defined and being set to 0.0 in labels with no predicted samples. Use `zero_division` parameter to control this behavior.\n",
      "  _warn_prf(average, modifier, msg_start, len(result))\n",
      "/Users/yoobin/anaconda3/lib/python3.11/site-packages/sklearn/metrics/_classification.py:1471: UndefinedMetricWarning: Precision and F-score are ill-defined and being set to 0.0 in labels with no predicted samples. Use `zero_division` parameter to control this behavior.\n",
      "  _warn_prf(average, modifier, msg_start, len(result))\n"
     ]
    }
   ],
   "source": [
    "svm_no_pca_performance = classification_report(y_test, y_pred)\n",
    "print(svm_no_pca_performance)"
   ]
  },
  {
   "cell_type": "markdown",
   "metadata": {},
   "source": [
    "## 3.2.2. SVM Classification with PCA (PC = 2)"
   ]
  },
  {
   "cell_type": "code",
   "execution_count": 121,
   "metadata": {},
   "outputs": [
    {
     "data": {
      "text/html": [
       "<style>#sk-container-id-12 {color: black;}#sk-container-id-12 pre{padding: 0;}#sk-container-id-12 div.sk-toggleable {background-color: white;}#sk-container-id-12 label.sk-toggleable__label {cursor: pointer;display: block;width: 100%;margin-bottom: 0;padding: 0.3em;box-sizing: border-box;text-align: center;}#sk-container-id-12 label.sk-toggleable__label-arrow:before {content: \"▸\";float: left;margin-right: 0.25em;color: #696969;}#sk-container-id-12 label.sk-toggleable__label-arrow:hover:before {color: black;}#sk-container-id-12 div.sk-estimator:hover label.sk-toggleable__label-arrow:before {color: black;}#sk-container-id-12 div.sk-toggleable__content {max-height: 0;max-width: 0;overflow: hidden;text-align: left;background-color: #f0f8ff;}#sk-container-id-12 div.sk-toggleable__content pre {margin: 0.2em;color: black;border-radius: 0.25em;background-color: #f0f8ff;}#sk-container-id-12 input.sk-toggleable__control:checked~div.sk-toggleable__content {max-height: 200px;max-width: 100%;overflow: auto;}#sk-container-id-12 input.sk-toggleable__control:checked~label.sk-toggleable__label-arrow:before {content: \"▾\";}#sk-container-id-12 div.sk-estimator input.sk-toggleable__control:checked~label.sk-toggleable__label {background-color: #d4ebff;}#sk-container-id-12 div.sk-label input.sk-toggleable__control:checked~label.sk-toggleable__label {background-color: #d4ebff;}#sk-container-id-12 input.sk-hidden--visually {border: 0;clip: rect(1px 1px 1px 1px);clip: rect(1px, 1px, 1px, 1px);height: 1px;margin: -1px;overflow: hidden;padding: 0;position: absolute;width: 1px;}#sk-container-id-12 div.sk-estimator {font-family: monospace;background-color: #f0f8ff;border: 1px dotted black;border-radius: 0.25em;box-sizing: border-box;margin-bottom: 0.5em;}#sk-container-id-12 div.sk-estimator:hover {background-color: #d4ebff;}#sk-container-id-12 div.sk-parallel-item::after {content: \"\";width: 100%;border-bottom: 1px solid gray;flex-grow: 1;}#sk-container-id-12 div.sk-label:hover label.sk-toggleable__label {background-color: #d4ebff;}#sk-container-id-12 div.sk-serial::before {content: \"\";position: absolute;border-left: 1px solid gray;box-sizing: border-box;top: 0;bottom: 0;left: 50%;z-index: 0;}#sk-container-id-12 div.sk-serial {display: flex;flex-direction: column;align-items: center;background-color: white;padding-right: 0.2em;padding-left: 0.2em;position: relative;}#sk-container-id-12 div.sk-item {position: relative;z-index: 1;}#sk-container-id-12 div.sk-parallel {display: flex;align-items: stretch;justify-content: center;background-color: white;position: relative;}#sk-container-id-12 div.sk-item::before, #sk-container-id-12 div.sk-parallel-item::before {content: \"\";position: absolute;border-left: 1px solid gray;box-sizing: border-box;top: 0;bottom: 0;left: 50%;z-index: -1;}#sk-container-id-12 div.sk-parallel-item {display: flex;flex-direction: column;z-index: 1;position: relative;background-color: white;}#sk-container-id-12 div.sk-parallel-item:first-child::after {align-self: flex-end;width: 50%;}#sk-container-id-12 div.sk-parallel-item:last-child::after {align-self: flex-start;width: 50%;}#sk-container-id-12 div.sk-parallel-item:only-child::after {width: 0;}#sk-container-id-12 div.sk-dashed-wrapped {border: 1px dashed gray;margin: 0 0.4em 0.5em 0.4em;box-sizing: border-box;padding-bottom: 0.4em;background-color: white;}#sk-container-id-12 div.sk-label label {font-family: monospace;font-weight: bold;display: inline-block;line-height: 1.2em;}#sk-container-id-12 div.sk-label-container {text-align: center;}#sk-container-id-12 div.sk-container {/* jupyter's `normalize.less` sets `[hidden] { display: none; }` but bootstrap.min.css set `[hidden] { display: none !important; }` so we also need the `!important` here to be able to override the default hidden behavior on the sphinx rendered scikit-learn.org. See: https://github.com/scikit-learn/scikit-learn/issues/21755 */display: inline-block !important;position: relative;}#sk-container-id-12 div.sk-text-repr-fallback {display: none;}</style><div id=\"sk-container-id-12\" class=\"sk-top-container\"><div class=\"sk-text-repr-fallback\"><pre>SVC()</pre><b>In a Jupyter environment, please rerun this cell to show the HTML representation or trust the notebook. <br />On GitHub, the HTML representation is unable to render, please try loading this page with nbviewer.org.</b></div><div class=\"sk-container\" hidden><div class=\"sk-item\"><div class=\"sk-estimator sk-toggleable\"><input class=\"sk-toggleable__control sk-hidden--visually\" id=\"sk-estimator-id-12\" type=\"checkbox\" checked><label for=\"sk-estimator-id-12\" class=\"sk-toggleable__label sk-toggleable__label-arrow\">SVC</label><div class=\"sk-toggleable__content\"><pre>SVC()</pre></div></div></div></div></div>"
      ],
      "text/plain": [
       "SVC()"
      ]
     },
     "execution_count": 121,
     "metadata": {},
     "output_type": "execute_result"
    }
   ],
   "source": [
    "# SVM 분류기 생성\n",
    "svm_clf = svm.SVC()\n",
    "# SVM 분류기 학습\n",
    "svm_clf.fit(X_train_pca_2, y_train)"
   ]
  },
  {
   "cell_type": "code",
   "execution_count": 122,
   "metadata": {},
   "outputs": [],
   "source": [
    "y_pred= svm_clf.predict(X_test_pca_2)"
   ]
  },
  {
   "cell_type": "markdown",
   "metadata": {},
   "source": [
    "### Result"
   ]
  },
  {
   "cell_type": "code",
   "execution_count": 123,
   "metadata": {},
   "outputs": [
    {
     "name": "stdout",
     "output_type": "stream",
     "text": [
      "[[36  0  1]\n",
      " [ 1  0  0]\n",
      " [15  0  0]]\n"
     ]
    }
   ],
   "source": [
    "svm_pca2_conf= confusion_matrix(y_test, y_pred)\n",
    "print(svm_pca2_conf)"
   ]
  },
  {
   "cell_type": "code",
   "execution_count": 124,
   "metadata": {},
   "outputs": [
    {
     "name": "stdout",
     "output_type": "stream",
     "text": [
      "              precision    recall  f1-score   support\n",
      "\n",
      "          CN       0.69      0.97      0.81        37\n",
      "         Dem       0.00      0.00      0.00         1\n",
      "         MCI       0.00      0.00      0.00        15\n",
      "\n",
      "    accuracy                           0.68        53\n",
      "   macro avg       0.23      0.32      0.27        53\n",
      "weighted avg       0.48      0.68      0.56        53\n",
      "\n"
     ]
    },
    {
     "name": "stderr",
     "output_type": "stream",
     "text": [
      "/Users/yoobin/anaconda3/lib/python3.11/site-packages/sklearn/metrics/_classification.py:1471: UndefinedMetricWarning: Precision and F-score are ill-defined and being set to 0.0 in labels with no predicted samples. Use `zero_division` parameter to control this behavior.\n",
      "  _warn_prf(average, modifier, msg_start, len(result))\n",
      "/Users/yoobin/anaconda3/lib/python3.11/site-packages/sklearn/metrics/_classification.py:1471: UndefinedMetricWarning: Precision and F-score are ill-defined and being set to 0.0 in labels with no predicted samples. Use `zero_division` parameter to control this behavior.\n",
      "  _warn_prf(average, modifier, msg_start, len(result))\n",
      "/Users/yoobin/anaconda3/lib/python3.11/site-packages/sklearn/metrics/_classification.py:1471: UndefinedMetricWarning: Precision and F-score are ill-defined and being set to 0.0 in labels with no predicted samples. Use `zero_division` parameter to control this behavior.\n",
      "  _warn_prf(average, modifier, msg_start, len(result))\n"
     ]
    }
   ],
   "source": [
    "svm_pca2_performance = classification_report(y_test, y_pred)\n",
    "print(svm_pca2_performance)"
   ]
  },
  {
   "cell_type": "markdown",
   "metadata": {},
   "source": [
    "## 3.2.3. SVM classification with PCA (PC = 6)"
   ]
  },
  {
   "cell_type": "code",
   "execution_count": 125,
   "metadata": {},
   "outputs": [
    {
     "data": {
      "text/html": [
       "<style>#sk-container-id-13 {color: black;}#sk-container-id-13 pre{padding: 0;}#sk-container-id-13 div.sk-toggleable {background-color: white;}#sk-container-id-13 label.sk-toggleable__label {cursor: pointer;display: block;width: 100%;margin-bottom: 0;padding: 0.3em;box-sizing: border-box;text-align: center;}#sk-container-id-13 label.sk-toggleable__label-arrow:before {content: \"▸\";float: left;margin-right: 0.25em;color: #696969;}#sk-container-id-13 label.sk-toggleable__label-arrow:hover:before {color: black;}#sk-container-id-13 div.sk-estimator:hover label.sk-toggleable__label-arrow:before {color: black;}#sk-container-id-13 div.sk-toggleable__content {max-height: 0;max-width: 0;overflow: hidden;text-align: left;background-color: #f0f8ff;}#sk-container-id-13 div.sk-toggleable__content pre {margin: 0.2em;color: black;border-radius: 0.25em;background-color: #f0f8ff;}#sk-container-id-13 input.sk-toggleable__control:checked~div.sk-toggleable__content {max-height: 200px;max-width: 100%;overflow: auto;}#sk-container-id-13 input.sk-toggleable__control:checked~label.sk-toggleable__label-arrow:before {content: \"▾\";}#sk-container-id-13 div.sk-estimator input.sk-toggleable__control:checked~label.sk-toggleable__label {background-color: #d4ebff;}#sk-container-id-13 div.sk-label input.sk-toggleable__control:checked~label.sk-toggleable__label {background-color: #d4ebff;}#sk-container-id-13 input.sk-hidden--visually {border: 0;clip: rect(1px 1px 1px 1px);clip: rect(1px, 1px, 1px, 1px);height: 1px;margin: -1px;overflow: hidden;padding: 0;position: absolute;width: 1px;}#sk-container-id-13 div.sk-estimator {font-family: monospace;background-color: #f0f8ff;border: 1px dotted black;border-radius: 0.25em;box-sizing: border-box;margin-bottom: 0.5em;}#sk-container-id-13 div.sk-estimator:hover {background-color: #d4ebff;}#sk-container-id-13 div.sk-parallel-item::after {content: \"\";width: 100%;border-bottom: 1px solid gray;flex-grow: 1;}#sk-container-id-13 div.sk-label:hover label.sk-toggleable__label {background-color: #d4ebff;}#sk-container-id-13 div.sk-serial::before {content: \"\";position: absolute;border-left: 1px solid gray;box-sizing: border-box;top: 0;bottom: 0;left: 50%;z-index: 0;}#sk-container-id-13 div.sk-serial {display: flex;flex-direction: column;align-items: center;background-color: white;padding-right: 0.2em;padding-left: 0.2em;position: relative;}#sk-container-id-13 div.sk-item {position: relative;z-index: 1;}#sk-container-id-13 div.sk-parallel {display: flex;align-items: stretch;justify-content: center;background-color: white;position: relative;}#sk-container-id-13 div.sk-item::before, #sk-container-id-13 div.sk-parallel-item::before {content: \"\";position: absolute;border-left: 1px solid gray;box-sizing: border-box;top: 0;bottom: 0;left: 50%;z-index: -1;}#sk-container-id-13 div.sk-parallel-item {display: flex;flex-direction: column;z-index: 1;position: relative;background-color: white;}#sk-container-id-13 div.sk-parallel-item:first-child::after {align-self: flex-end;width: 50%;}#sk-container-id-13 div.sk-parallel-item:last-child::after {align-self: flex-start;width: 50%;}#sk-container-id-13 div.sk-parallel-item:only-child::after {width: 0;}#sk-container-id-13 div.sk-dashed-wrapped {border: 1px dashed gray;margin: 0 0.4em 0.5em 0.4em;box-sizing: border-box;padding-bottom: 0.4em;background-color: white;}#sk-container-id-13 div.sk-label label {font-family: monospace;font-weight: bold;display: inline-block;line-height: 1.2em;}#sk-container-id-13 div.sk-label-container {text-align: center;}#sk-container-id-13 div.sk-container {/* jupyter's `normalize.less` sets `[hidden] { display: none; }` but bootstrap.min.css set `[hidden] { display: none !important; }` so we also need the `!important` here to be able to override the default hidden behavior on the sphinx rendered scikit-learn.org. See: https://github.com/scikit-learn/scikit-learn/issues/21755 */display: inline-block !important;position: relative;}#sk-container-id-13 div.sk-text-repr-fallback {display: none;}</style><div id=\"sk-container-id-13\" class=\"sk-top-container\"><div class=\"sk-text-repr-fallback\"><pre>SVC()</pre><b>In a Jupyter environment, please rerun this cell to show the HTML representation or trust the notebook. <br />On GitHub, the HTML representation is unable to render, please try loading this page with nbviewer.org.</b></div><div class=\"sk-container\" hidden><div class=\"sk-item\"><div class=\"sk-estimator sk-toggleable\"><input class=\"sk-toggleable__control sk-hidden--visually\" id=\"sk-estimator-id-13\" type=\"checkbox\" checked><label for=\"sk-estimator-id-13\" class=\"sk-toggleable__label sk-toggleable__label-arrow\">SVC</label><div class=\"sk-toggleable__content\"><pre>SVC()</pre></div></div></div></div></div>"
      ],
      "text/plain": [
       "SVC()"
      ]
     },
     "execution_count": 125,
     "metadata": {},
     "output_type": "execute_result"
    }
   ],
   "source": [
    "# SVM 분류기 생성\n",
    "svm_clf = svm.SVC()\n",
    "# SVM 분류기 학습\n",
    "svm_clf.fit(X_train_pca_6, y_train)"
   ]
  },
  {
   "cell_type": "code",
   "execution_count": 126,
   "metadata": {},
   "outputs": [],
   "source": [
    "y_pred= svm_clf.predict(X_test_pca_6)"
   ]
  },
  {
   "cell_type": "markdown",
   "metadata": {},
   "source": [
    "### Result"
   ]
  },
  {
   "cell_type": "code",
   "execution_count": 127,
   "metadata": {},
   "outputs": [
    {
     "name": "stdout",
     "output_type": "stream",
     "text": [
      "[[37  0  0]\n",
      " [ 1  0  0]\n",
      " [15  0  0]]\n"
     ]
    }
   ],
   "source": [
    "svm_pca6_conf= confusion_matrix(y_test, y_pred)\n",
    "print(svm_pca6_conf)"
   ]
  },
  {
   "cell_type": "code",
   "execution_count": 128,
   "metadata": {},
   "outputs": [
    {
     "name": "stdout",
     "output_type": "stream",
     "text": [
      "              precision    recall  f1-score   support\n",
      "\n",
      "          CN       0.70      1.00      0.82        37\n",
      "         Dem       0.00      0.00      0.00         1\n",
      "         MCI       0.00      0.00      0.00        15\n",
      "\n",
      "    accuracy                           0.70        53\n",
      "   macro avg       0.23      0.33      0.27        53\n",
      "weighted avg       0.49      0.70      0.57        53\n",
      "\n"
     ]
    },
    {
     "name": "stderr",
     "output_type": "stream",
     "text": [
      "/Users/yoobin/anaconda3/lib/python3.11/site-packages/sklearn/metrics/_classification.py:1471: UndefinedMetricWarning: Precision and F-score are ill-defined and being set to 0.0 in labels with no predicted samples. Use `zero_division` parameter to control this behavior.\n",
      "  _warn_prf(average, modifier, msg_start, len(result))\n",
      "/Users/yoobin/anaconda3/lib/python3.11/site-packages/sklearn/metrics/_classification.py:1471: UndefinedMetricWarning: Precision and F-score are ill-defined and being set to 0.0 in labels with no predicted samples. Use `zero_division` parameter to control this behavior.\n",
      "  _warn_prf(average, modifier, msg_start, len(result))\n",
      "/Users/yoobin/anaconda3/lib/python3.11/site-packages/sklearn/metrics/_classification.py:1471: UndefinedMetricWarning: Precision and F-score are ill-defined and being set to 0.0 in labels with no predicted samples. Use `zero_division` parameter to control this behavior.\n",
      "  _warn_prf(average, modifier, msg_start, len(result))\n"
     ]
    }
   ],
   "source": [
    "svm_pca6_performance = classification_report(y_test, y_pred)\n",
    "print(svm_pca6_performance)"
   ]
  },
  {
   "cell_type": "markdown",
   "metadata": {},
   "source": [
    "# Reference\n",
    "1. [PCA scratch](https://www.askpython.com/python/examples/principal-component-analysis)\n",
    "2. [Data Normalization](https://stackoverflow.com/questions/21030391/how-to-normalize-a-numpy-array-to-a-unit-vector)\n",
    "3. [Scree plot - concept](https://sanchitamangale12.medium.com/scree-plot-733ed72c8608)\n",
    "4. [Scree plot - implementation](https://velog.io/@yuns_u/PCA-Scree-Plot)"
   ]
  }
 ],
 "metadata": {
  "kernelspec": {
   "display_name": "base",
   "language": "python",
   "name": "python3"
  },
  "language_info": {
   "codemirror_mode": {
    "name": "ipython",
    "version": 3
   },
   "file_extension": ".py",
   "mimetype": "text/x-python",
   "name": "python",
   "nbconvert_exporter": "python",
   "pygments_lexer": "ipython3",
   "version": "3.11.5"
  }
 },
 "nbformat": 4,
 "nbformat_minor": 2
}
